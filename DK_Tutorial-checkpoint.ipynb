{
 "cells": [
  {
   "cell_type": "code",
   "execution_count": 8,
   "metadata": {},
   "outputs": [
    {
     "name": "stdout",
     "output_type": "stream",
     "text": [
      "['False', 'None', 'True', 'and', 'as', 'assert', 'async', 'await', 'break', 'class', 'continue', 'def', 'del', 'elif', 'else', 'except', 'finally', 'for', 'from', 'global', 'if', 'import', 'in', 'is', 'lambda', 'nonlocal', 'not', 'or', 'pass', 'raise', 'return', 'try', 'while', 'with', 'yield']\n",
      "Total number of keywords 35\n"
     ]
    }
   ],
   "source": [
    "import keyword as xy\n",
    "print(xy.kwlist)\n",
    "print(\"Total number of keywords\",len(xy.kwlist))"
   ]
  },
  {
   "cell_type": "code",
   "execution_count": 9,
   "metadata": {},
   "outputs": [
    {
     "name": "stdout",
     "output_type": "stream",
     "text": [
      "Alok Alok Alok\n",
      "1 2 34\n",
      "Aeroplane\n",
      "A\n",
      "ero\n"
     ]
    }
   ],
   "source": [
    "print('Alok',\"Alok\",\"\"\"Alok\"\"\")\n",
    "print(1,2,34)\n",
    "\n",
    "#print(arg)\n",
    "a='Aeroplane'\n",
    "print(a)\n",
    "# indexing--  A   E  R  O  P  L  A  N  E\n",
    " #positive--  0   1  2  3  4  5  6  7  8\n",
    " # negative- -9  -8 -7 -6 -5 -4 -3 -2 -1 \n",
    "\n",
    "print(a[0]) # single element\n",
    "\n",
    "# slicing\n",
    "print(a[1:4])   #[start:end(end-1)]\n"
   ]
  },
  {
   "cell_type": "code",
   "execution_count": 10,
   "metadata": {},
   "outputs": [
    {
     "name": "stdout",
     "output_type": "stream",
     "text": [
      "['False', 'None', 'True', 'and', 'as', 'assert', 'async', 'await', 'break', 'class', 'continue', 'def', 'del', 'elif', 'else', 'except', 'finally', 'for', 'from', 'global', 'if', 'import', 'in', 'is', 'lambda', 'nonlocal', 'not', 'or', 'pass', 'raise', 'return', 'try', 'while', 'with', 'yield']\n",
      "total no of keywords are  35\n"
     ]
    }
   ],
   "source": [
    "import keyword as dk\n",
    "print(dk.kwlist)\n",
    "print(\"total no of keywords are \", len(dk.kwlist))"
   ]
  },
  {
   "cell_type": "markdown",
   "metadata": {},
   "source": []
  },
  {
   "cell_type": "code",
   "execution_count": 11,
   "metadata": {},
   "outputs": [
    {
     "name": "stdout",
     "output_type": "stream",
     "text": [
      "8\n"
     ]
    }
   ],
   "source": [
    "d2 = 8\n",
    "print(d2)"
   ]
  },
  {
   "cell_type": "code",
   "execution_count": 12,
   "metadata": {},
   "outputs": [
    {
     "name": "stdout",
     "output_type": "stream",
     "text": [
      "35\n"
     ]
    }
   ],
   "source": [
    "_ak20=35\n",
    "print(_ak20)\n",
    "abcj=100"
   ]
  },
  {
   "cell_type": "code",
   "execution_count": 13,
   "metadata": {},
   "outputs": [
    {
     "name": "stdout",
     "output_type": "stream",
     "text": [
      "Hello DK\n"
     ]
    },
    {
     "data": {
      "text/plain": [
       "'This is dipesh\\nkirad\\nand \\nDPK'"
      ]
     },
     "execution_count": 13,
     "metadata": {},
     "output_type": "execute_result"
    }
   ],
   "source": [
    "print (\"Hello DK\")\n",
    "\"\"\"This is dipesh\n",
    "kirad\n",
    "and \n",
    "DPK\"\"\""
   ]
  },
  {
   "cell_type": "code",
   "execution_count": 14,
   "metadata": {},
   "outputs": [
    {
     "name": "stdout",
     "output_type": "stream",
     "text": [
      "Dipesh Kirad is calculating area\n",
      "24\n"
     ]
    }
   ],
   "source": [
    "def dk(l,b,h):\n",
    "    \"\"\"Dipesh Kirad is calculating area\"\"\"\n",
    "    return (l*b*h)\n",
    "print(dk.__doc__)\n",
    "print(dk(2,3,4))"
   ]
  },
  {
   "cell_type": "code",
   "execution_count": 15,
   "metadata": {},
   "outputs": [
    {
     "name": "stdout",
     "output_type": "stream",
     "text": [
      "Dipesh Kirad is \n",
      "    calculating pi value with area\n",
      "18.84\n"
     ]
    }
   ],
   "source": [
    "def dk1(l,w,pi=3.14):\n",
    "\n",
    "    \"\"\"Dipesh Kirad is \n",
    "    calculating pi value with area\"\"\"\n",
    "    \n",
    "    return (l * w * pi)\n",
    "print(dk1.__doc__)\n",
    "print (dk1(2,3))"
   ]
  },
  {
   "cell_type": "code",
   "execution_count": 16,
   "metadata": {},
   "outputs": [
    {
     "name": "stdout",
     "output_type": "stream",
     "text": [
      "DK is trying to get\n",
      "    output\n",
      "24\n"
     ]
    }
   ],
   "source": [
    "def dk3(l,w,h):\n",
    "    \"\"\"DK is trying to get\n",
    "    output\"\"\"\n",
    "    return (l*w*h)\n",
    "print(dk3.__doc__)\n",
    "    \n",
    "\n",
    "print (dk3(2,3,4))"
   ]
  },
  {
   "cell_type": "code",
   "execution_count": 17,
   "metadata": {},
   "outputs": [
    {
     "name": "stdout",
     "output_type": "stream",
     "text": [
      "DK tried it\n",
      "12\n",
      "14\n",
      "16\n"
     ]
    }
   ],
   "source": [
    "\"\"\"DK tried it\"\"\"\n",
    "print(__doc__)\n",
    "for i in range(12,18):\n",
    "    if (i%2==0):\n",
    "        print(i)\n"
   ]
  },
  {
   "cell_type": "code",
   "execution_count": 18,
   "metadata": {},
   "outputs": [
    {
     "name": "stdout",
     "output_type": "stream",
     "text": [
      "Factorial of\n",
      "120\n"
     ]
    }
   ],
   "source": [
    "\"\"\"Factorial of\"\"\"\n",
    "print(__doc__)\n",
    "import math as Data\n",
    "print(Data.factorial(5))"
   ]
  },
  {
   "cell_type": "code",
   "execution_count": 19,
   "metadata": {},
   "outputs": [
    {
     "data": {
      "text/plain": [
       "120"
      ]
     },
     "execution_count": 19,
     "metadata": {},
     "output_type": "execute_result"
    }
   ],
   "source": [
    "def acto(n):\n",
    "    return 1 if n==0 else n*acto(n-1)\n",
    "acto(5)"
   ]
  },
  {
   "cell_type": "code",
   "execution_count": 20,
   "metadata": {},
   "outputs": [
    {
     "name": "stdout",
     "output_type": "stream",
     "text": [
      "Machine Learning\n",
      "3053706632304\n",
      "3053706630512\n",
      "DK is trying\n"
     ]
    }
   ],
   "source": [
    "\"\"\"Machine Learning\"\"\"\n",
    "print(__doc__)\n",
    "c = \" Dipesh kirad\"\n",
    "d =  \"AAIC\"\n",
    "print(id(c))\n",
    "print (id(d))\n",
    "\n",
    "print(\"DK is trying\"); d=\"asasaa\""
   ]
  },
  {
   "cell_type": "code",
   "execution_count": 21,
   "metadata": {},
   "outputs": [
    {
     "name": "stdout",
     "output_type": "stream",
     "text": [
      "1\n",
      "11\n",
      "30\n"
     ]
    }
   ],
   "source": [
    "a =1\n",
    "print(a)\n",
    "b= (1+2\n",
    "    +3+5)\n",
    "print(b)\n",
    "d = 10; e = 20\n",
    "print(d+e)"
   ]
  },
  {
   "cell_type": "code",
   "execution_count": 22,
   "metadata": {},
   "outputs": [
    {
     "name": "stdout",
     "output_type": "stream",
     "text": [
      "Name of person is dipesh\n",
      "<class 'str'>\n",
      "Value of a is 10\n",
      "<class 'int'>\n"
     ]
    }
   ],
   "source": [
    "name = \"dipesh\"\n",
    "print(\"Name of person is\",name)\n",
    "print(type(name))\n",
    "\n",
    "a =10\n",
    "print(\"Value of a is\", a)\n",
    "print(type(a))"
   ]
  },
  {
   "cell_type": "code",
   "execution_count": 23,
   "metadata": {},
   "outputs": [
    {
     "name": "stdout",
     "output_type": "stream",
     "text": [
      "The value of a is 3 & value of b is 2\n",
      "The new value of a is 2 & value of b is 3\n"
     ]
    }
   ],
   "source": [
    "a =2; b=3\n",
    "print(\"The value of a is {1} & value of b is {0}\".format(a,b))        #default\n",
    "print(\"The new value of a is {} & value of b is {}\".format(a,b))      #specify the postion of arguments"
   ]
  },
  {
   "cell_type": "code",
   "execution_count": 24,
   "metadata": {},
   "outputs": [
    {
     "name": "stdout",
     "output_type": "stream",
     "text": [
      "Hi Mr dipesh please welcome we greet you as Good evening\n",
      "Hi we greet you as Good evening , Mr dipesh\n"
     ]
    }
   ],
   "source": [
    "name = \"dipesh\"; greeting = \"Good evening\"\n",
    "print (\"Hi Mr {} please welcome we greet you as {}\".format(name,greeting))\n",
    "print (\"Hi we greet you as {1} , Mr {0}\".format(name,greeting))"
   ]
  },
  {
   "cell_type": "markdown",
   "metadata": {},
   "source": []
  },
  {
   "cell_type": "code",
   "execution_count": 25,
   "metadata": {},
   "outputs": [
    {
     "name": "stdout",
     "output_type": "stream",
     "text": [
      "You have entered the name as : \n",
      " 5\n",
      "Enter a number please : 6\n",
      "ENtered Number is 6\n"
     ]
    }
   ],
   "source": [
    "\"\"\"You have entered the name as : \"\"\"\n",
    "print(__doc__)\n",
    "name = input ( \" \" )\n",
    "\n",
    "num = input(\"Enter a number please : \")\n",
    "print(\"ENtered Number is\", num)\n"
   ]
  },
  {
   "cell_type": "code",
   "execution_count": 26,
   "metadata": {},
   "outputs": [
    {
     "name": "stdout",
     "output_type": "stream",
     "text": [
      "11\n",
      "7\n",
      "4.5\n",
      "4\n",
      "18\n",
      "1\n",
      "81\n"
     ]
    }
   ],
   "source": [
    "# Arithmetic Operator\n",
    "x, y = 9,2\n",
    "\n",
    "print(x + y)      #addition\n",
    "print(x-y)        #subtraction(-)\n",
    "print(x/y)        #division(/) (will take in fraction)\n",
    "print(x//y)       #Floor Division (//)\n",
    "print(x*y)       #multiplication(*)\n",
    "print(x%y)      #modulo division (%) \n",
    "print(x**y)     #Exponent (**)"
   ]
  },
  {
   "cell_type": "code",
   "execution_count": 27,
   "metadata": {},
   "outputs": [
    {
     "name": "stdout",
     "output_type": "stream",
     "text": [
      "10 20\n",
      "False\n",
      "20\n",
      "10\n",
      "new test scenario\n",
      "('a and b is', False)\n",
      "('a or b is', True)\n",
      "('not a is', False)\n",
      "Trial of comparison operator\n",
      "('x > y  is', True)\n"
     ]
    }
   ],
   "source": [
    "# Comparison Operator\n",
    "a = 10; b = 20\n",
    "print(a,b)\n",
    "print(not b)\n",
    "print (a and b)\n",
    "print (a or b)\n",
    "\n",
    "print (\"new test scenario\")\n",
    "\n",
    "a = True\n",
    "b = False\n",
    "print(('a and b is',a and b))\n",
    "print(('a or b is',a or b))\n",
    "print(('not a is',not a))\n",
    "\n",
    "print (\"Trial of comparison operator\")\n",
    "x = 6\n",
    "y = 5\n",
    "print(('x > y  is',x>y))"
   ]
  },
  {
   "cell_type": "code",
   "execution_count": 28,
   "metadata": {
    "scrolled": true
   },
   "outputs": [
    {
     "name": "stdout",
     "output_type": "stream",
     "text": [
      "Line 1 - Value of num1 :  4\n",
      "Line 2 - Value of num2 :  5\n",
      "One more addition of 4  to the Initial output which is 13  is 13\n",
      "Value of a is : 5\n",
      "Value of b is :  9\n",
      "Total is : 225\n"
     ]
    }
   ],
   "source": [
    "# Example of Assignment operator\n",
    "num1 = 4\n",
    "num2 = 5\n",
    "print(\"Line 1 - Value of num1 : \", num1)\n",
    "print(\"Line 2 - Value of num2 : \", num2)\n",
    "res = num1 + num2\n",
    "res += num1\n",
    "print(\"One more addition of {}\".format(num1), \" to the Initial output which is {} \".format(res), \"\"\"is\"\"\" ,res)\n",
    "\n",
    "a =5\n",
    "b =9\n",
    "print(\"Value of a is :\", a)\n",
    "print (\"Value of b is : \", b)\n",
    "multi = a *b\n",
    "multi*=a                            # first 2 * 3 = 6 then 2 *3 * 2 (which is multi *=a)\n",
    "print(\"Total is :\", multi)"
   ]
  },
  {
   "cell_type": "code",
   "execution_count": 29,
   "metadata": {},
   "outputs": [
    {
     "name": "stdout",
     "output_type": "stream",
     "text": [
      "('a and b is', False)\n",
      "('a or b is', True)\n",
      "('not a is', False)\n"
     ]
    }
   ],
   "source": [
    "# Logical Operators\n",
    "a = True\n",
    "b = False\n",
    "print(('a and b is',a and b)) # Return True if both values are True\n",
    "print(('a or b is',a or b))   # Return True if either operand value is True\n",
    "print(('not a is',not a))     # Return True if operand is false"
   ]
  },
  {
   "cell_type": "code",
   "execution_count": 30,
   "metadata": {},
   "outputs": [
    {
     "name": "stdout",
     "output_type": "stream",
     "text": [
      "Value of (v+w) * x/ y is  36.0\n"
     ]
    }
   ],
   "source": [
    "#Operator Precedence\n",
    "v = 4\n",
    "w = 5\n",
    "x = 8\n",
    "y = 2\n",
    "z = 0\n",
    "z = (v+w) * x / y\n",
    "print(\"Value of (v+w) * x/ y is \",  z)"
   ]
  },
  {
   "cell_type": "code",
   "execution_count": 31,
   "metadata": {},
   "outputs": [
    {
     "name": "stdout",
     "output_type": "stream",
     "text": [
      "8\n",
      "5\n",
      "1280\n",
      "0\n"
     ]
    }
   ],
   "source": [
    "# Bitwise Operators\n",
    "a, b = 5, 8\n",
    "\n",
    "print (a and b)\n",
    "\n",
    "print(a or b)\n",
    "\n",
    "print(a << b)\n",
    "\n",
    "#print(a ~ b)\n",
    "\n",
    "print(a >> b)"
   ]
  },
  {
   "cell_type": "code",
   "execution_count": 32,
   "metadata": {},
   "outputs": [
    {
     "name": "stdout",
     "output_type": "stream",
     "text": [
      "3\n",
      "9\n",
      "79\n"
     ]
    }
   ],
   "source": [
    "a = 2\n",
    "\n",
    "a += 1         #add AND\n",
    "print(a)\n",
    "\n",
    "#a = a+10\n",
    "\n",
    "b = 79\n",
    "c = 90\n",
    "\n",
    "a = a ^ 10\n",
    "print(a)\n",
    "\n",
    "print(b%c)\n",
    "\n",
    "#subtract AND (-=)\n",
    "\n",
    "#Multiply AND (*=)\n",
    "\n",
    "#Divide AND (/=)\n",
    "\n",
    "#Modulus AND (%=)\n",
    "\n",
    "#Floor Division (//=)\n",
    "\n",
    "#Exponent AND (**=)"
   ]
  },
  {
   "cell_type": "code",
   "execution_count": 33,
   "metadata": {},
   "outputs": [
    {
     "name": "stdout",
     "output_type": "stream",
     "text": [
      "Line 1 - Value of c is  5\n",
      "Line 2 - Value of c is  7\n",
      "Line 3 - Value of c is  14\n",
      "Line 4 - Value of c is  7.0\n",
      "Line 5 - Value of c is  1.0\n",
      "Line 6 - Value of c is  1.0\n",
      "Line 7 - Value of c is  0.0\n"
     ]
    }
   ],
   "source": [
    "# Assignment Operators\n",
    "\n",
    "a = 2\n",
    "b = 3\n",
    "c = 4\n",
    "\n",
    "c = a + b\n",
    "print (\"Line 1 - Value of c is \", c)\n",
    "\n",
    "c += a\n",
    "print (\"Line 2 - Value of c is \", c )\n",
    "\n",
    "c *= a\n",
    "print (\"Line 3 - Value of c is \", c )\n",
    "\n",
    "c /= a \n",
    "print (\"Line 4 - Value of c is \", c )\n",
    "\n",
    "c %= a\n",
    "print (\"Line 5 - Value of c is \", c)\n",
    "\n",
    "c **= a\n",
    "print (\"Line 6 - Value of c is \", c)\n",
    "\n",
    "c //= a\n",
    "print (\"Line 7 - Value of c is \", c)"
   ]
  },
  {
   "cell_type": "code",
   "execution_count": 34,
   "metadata": {},
   "outputs": [
    {
     "ename": "SyntaxError",
     "evalue": "invalid syntax (<ipython-input-34-122d0d3970e5>, line 1)",
     "output_type": "error",
     "traceback": [
      "\u001b[1;36m  File \u001b[1;32m\"<ipython-input-34-122d0d3970e5>\"\u001b[1;36m, line \u001b[1;32m1\u001b[0m\n\u001b[1;33m    num =\u001b[0m\n\u001b[1;37m         ^\u001b[0m\n\u001b[1;31mSyntaxError\u001b[0m\u001b[1;31m:\u001b[0m invalid syntax\n"
     ]
    }
   ],
   "source": [
    "num =\n",
    "\n",
    "# try 0, -1 and None\n",
    "if None:\n",
    "    print(\"Number is positive\")\n",
    "\n",
    "print(\"This will print always\")      #This print statement always print\n",
    "\n",
    "#change number "
   ]
  },
  {
   "cell_type": "code",
   "execution_count": null,
   "metadata": {},
   "outputs": [],
   "source": [
    "#If statement\n",
    "x = int(input(\"Please enter a number :\"))\n",
    "if x <0:\n",
    "    x=0\n",
    "    print (\"You have entered a negative number & hence it has been considered as Zero\")\n",
    "elif x == 0:\n",
    "    print (\"You have entered an integer but its Zero\")\n",
    "else :\n",
    "    print (\"The entered number is an integer & is \",x)"
   ]
  },
  {
   "cell_type": "code",
   "execution_count": 35,
   "metadata": {},
   "outputs": [
    {
     "name": "stdout",
     "output_type": "stream",
     "text": [
      "Please enter the value of a  8\n",
      "Please enter the value of b  12\n",
      "Please enter the value of c  9\n",
      "a =   8\n",
      "b =   12\n",
      "c =   9\n",
      "From the entered values the largest number is : 12\n"
     ]
    }
   ],
   "source": [
    "# Example for if & else statement\n",
    "\n",
    "a = int (input (\"Please enter the value of a  \"))\n",
    "b = int (input(\"Please enter the value of b  \"))\n",
    "c = int (input(\"Please enter the value of c  \"))\n",
    "print (\"a =  \", a)\n",
    "print (\"b =  \", b)\n",
    "print (\"c =  \", c)\n",
    "if a<0:\n",
    "    a=0\n",
    "    print (\"Being entered a negative number we considered value a as Zero\")\n",
    "elif a ==0:\n",
    "    print(\"The entered value as Zero for a\")\n",
    "if b<0:\n",
    "    b=0\n",
    "    print (\"Being entered a negative number we considered value b as Zero\")\n",
    "elif b ==0:\n",
    "    print(\"The entered value as Zero for b\")\n",
    "if c<0:\n",
    "    c=0\n",
    "    print (\"Being entered a negative number we considered value c as Zero\")\n",
    "elif c ==0:\n",
    "    print(\"The entered value as Zero for c\")\n",
    "\n",
    "if (a>=b) and (b>=c):\n",
    "    largest = a\n",
    "elif (b>=c) and (b>=a):\n",
    "    largest = b\n",
    "else:\n",
    "    largest = c\n",
    "print (\"From the entered values the largest number is : {}\".format(largest))"
   ]
  },
  {
   "cell_type": "code",
   "execution_count": 78,
   "metadata": {},
   "outputs": [
    {
     "name": "stdout",
     "output_type": "stream",
     "text": [
      "Product is: 36\n"
     ]
    }
   ],
   "source": [
    "#Find product of all numbers present in a list using while loop\n",
    "\n",
    "lst = [3, 3, 4]\n",
    "\n",
    "a = 1\n",
    "b = 0\n",
    "\n",
    "while (b < len(lst)):         #while (0< length of list 3, a = a * 3 which is 0th index of list, answer is  = 3 )\n",
    "    a *= lst[b]\n",
    "    b += 1\n",
    "\n",
    "print(\"Product is: {}\".format(a))"
   ]
  },
  {
   "cell_type": "code",
   "execution_count": 80,
   "metadata": {},
   "outputs": [
    {
     "name": "stdout",
     "output_type": "stream",
     "text": [
      "25\n",
      "18\n",
      "9\n",
      "12\n",
      "no item left in the list\n"
     ]
    }
   ],
   "source": [
    "list = [1,25,18,9,12]\n",
    "\n",
    "#iterating over the list\n",
    "\n",
    "x= 1\n",
    "\n",
    "while x < len(list):\n",
    "    print(list[x])\n",
    "    x += 1\n",
    "    \n",
    "else:\n",
    "    print(\"no item left in the list\")"
   ]
  },
  {
   "cell_type": "code",
   "execution_count": 76,
   "metadata": {},
   "outputs": [
    {
     "name": "stdout",
     "output_type": "stream",
     "text": [
      "Enter a number: 18\n",
      "18 is divisible by 2\n",
      "18 is divisible by 3\n",
      "18 is divisible by 6\n",
      "18 is divisible by 9\n",
      "18 is NOT a Prime number\n"
     ]
    }
   ],
   "source": [
    "#Python Program to check given number is Prime number & Even or not\n",
    "\n",
    "num = int(input(\"Enter a number: \"))        #convert string to int\n",
    "\n",
    "isdivisible = False;\n",
    "\n",
    "i=2;\n",
    "while num > i:\n",
    "    if num % i == 0:\n",
    "        isdivisible = True;\n",
    "        print (\"{} is divisible by {}\".format(num,i) )\n",
    "    i += 1;\n",
    "    \n",
    "if isdivisible:\n",
    "    print(\"{} is NOT a Prime number\".format(num))\n",
    "\n",
    "else:\n",
    "    print(\"{} is a Prime number\".format(num))\n",
    "    "
   ]
  },
  {
   "cell_type": "code",
   "execution_count": 94,
   "metadata": {},
   "outputs": [
    {
     "name": "stdout",
     "output_type": "stream",
     "text": [
      "Product is: 36\n"
     ]
    }
   ],
   "source": [
    "#Find product of all numbers present in a list\n",
    "\n",
    "lst = [3,3,4]\n",
    "\n",
    "start = 1\n",
    "#iterating over the list\n",
    "for ele in lst:\n",
    "    start *= ele\n",
    "\n",
    "print(\"Product is: {}\".format(start))"
   ]
  },
  {
   "cell_type": "code",
   "execution_count": 99,
   "metadata": {},
   "outputs": [
    {
     "name": "stdout",
     "output_type": "stream",
     "text": [
      "0\n",
      "1\n",
      "2\n",
      "3\n",
      "4\n",
      "5\n",
      "6\n",
      "7\n",
      "8\n",
      "9\n"
     ]
    }
   ],
   "source": [
    "for i in range(10):\n",
    "    print (i)"
   ]
  },
  {
   "cell_type": "code",
   "execution_count": 104,
   "metadata": {},
   "outputs": [
    {
     "name": "stdout",
     "output_type": "stream",
     "text": [
      "0\n",
      "5\n",
      "10\n",
      "15\n"
     ]
    }
   ],
   "source": [
    "#print range of numbers from 1 to 20 with step size of 2\n",
    "for i in range(0, 20, 5):\n",
    "    print(i)"
   ]
  },
  {
   "cell_type": "code",
   "execution_count": 118,
   "metadata": {},
   "outputs": [
    {
     "name": "stdout",
     "output_type": "stream",
     "text": [
      "Below details are output of list using index :\n",
      "satish\n",
      "srinu\n",
      "murali\n",
      "naveen\n",
      "bramha\n",
      "Below details are output of list using elements of Range :\n",
      "satish\n",
      "srinu\n",
      "murali\n",
      "naveen\n",
      "bramha\n"
     ]
    }
   ],
   "source": [
    "lst = [\"satish\", \"srinu\", \"murali\", \"naveen\", \"bramha\"]\n",
    "\n",
    "#iterate over the list using index\n",
    "print (\"Below details are output of list using index :\")\n",
    "for index in range(len(lst)):\n",
    "       print(lst[index])\n",
    "\n",
    "print (\"Below details are output of list using elements of Range :\")\n",
    "for strings in lst:\n",
    "    print(strings)"
   ]
  },
  {
   "cell_type": "code",
   "execution_count": 131,
   "metadata": {},
   "outputs": [
    {
     "name": "stdout",
     "output_type": "stream",
     "text": [
      "1\n",
      "2\n",
      "3\n",
      "List is over\n",
      "1\n",
      "2\n",
      "3\n",
      "no item left in the list\n"
     ]
    }
   ],
   "source": [
    "#for loop with else\n",
    "numbers = [1, 2, 3]\n",
    "\n",
    "#iterate over the list using index\n",
    "for i in range (len(numbers)):\n",
    "    print (numbers[i])\n",
    "print(\"List is over\")\n",
    "\n",
    "#iterating over the list\n",
    "for i in numbers:\n",
    "    print(i)\n",
    "else:\n",
    "    print(\"no item left in the list\")"
   ]
  },
  {
   "cell_type": "code",
   "execution_count": 140,
   "metadata": {},
   "outputs": [
    {
     "name": "stdout",
     "output_type": "stream",
     "text": [
      "1\n",
      "2\n",
      "Code is Executed\n",
      "3\n",
      "No items balance in list\n"
     ]
    }
   ],
   "source": [
    "numbers = [1,2,3]\n",
    "for i in numbers:\n",
    "    print (i)\n",
    "    if i%2==0:\n",
    "        print (\"Code is Executed\")\n",
    "    \n",
    "else:\n",
    "    print (\"No items balance in list\")"
   ]
  },
  {
   "cell_type": "code",
   "execution_count": 223,
   "metadata": {},
   "outputs": [
    {
     "name": "stdout",
     "output_type": "stream",
     "text": [
      "Please enter the value of first input :  1\n",
      "Please enter the value of second input :  10\n",
      "Prime numbers between 1 and 10 are :\n",
      "1\n",
      "2\n",
      "3\n",
      "5\n",
      "7\n"
     ]
    }
   ],
   "source": [
    "#Python Program to display all prime numbers within an interval\n",
    "\n",
    "a = int (input (\"Please enter the value of first input :  \")) #Enter a as 1\n",
    "b = int (input(\"Please enter the value of second input :  \")) # Enter b as 10\n",
    "\n",
    "\n",
    "print(\"Prime numbers between {} and {} are :\".format(a, b)) #Values are (1,10)\n",
    "\n",
    "for num in range(a, b):      #for num in range(1,10)\n",
    "\n",
    "    #if num > 1:\n",
    "        isDiv = False;\n",
    "        \n",
    "        for ind in range(2,num):   #for index in range(2nd index of series i.e. 1,2,3,4,5,6,7,8,9,10)\n",
    "            if num % ind == 0:\n",
    "                isDiv = True;\n",
    "        if not isDiv:        \n",
    "            print(num);"
   ]
  },
  {
   "cell_type": "code",
   "execution_count": 24,
   "metadata": {},
   "outputs": [
    {
     "name": "stdout",
     "output_type": "stream",
     "text": [
      "[1, 2, 3, 4, 5]\n",
      "['b', 'c', 'd', 'e', 'f']\n",
      "[6, 'dipesh', 7.1, 'kirad', 8]\n",
      "[[9, 10], [11, 12]]\n",
      "[[9, 10], [13, 14]]\n",
      "[1, 2, 3, 4, 15]\n",
      "[[9, 10], [13, 16]]\n",
      "[9, 10]\n",
      "5\n",
      "<class 'list'>\n",
      "5\n",
      "<class 'list'>\n",
      "5\n",
      "<class 'list'>\n",
      "2\n",
      "<class 'list'>\n"
     ]
    }
   ],
   "source": [
    "#List Creation\n",
    "\n",
    "a = []\n",
    "a1 = [1,2,3,4,5]\n",
    "a2=[\"b\",\"c\",\"d\",\"e\",\"f\"]\n",
    "a3=[6,\"dipesh\",7.1,\"kirad\",8]\n",
    "a4=[[9,10],[11,12]]\n",
    "\n",
    "print(a1)\n",
    "print(a2)\n",
    "print(a3)\n",
    "print(a4)\n",
    "\n",
    "a4[1]=[13,14] #changing based on the index value\n",
    "print(a4)\n",
    "\n",
    "a1[4]=15\n",
    "print(a1)\n",
    "\n",
    "a4[1][1]=16\n",
    "print(a4)\n",
    "\n",
    "print(a4[0])\n",
    "\n",
    "print(len(a1))\n",
    "print(type(a1))\n",
    "\n",
    "print(len(a2))\n",
    "print(type(a2))\n",
    "\n",
    "print(len(a3))\n",
    "print(type(a3))\n",
    "\n",
    "print(len(a4))\n",
    "print(type(a4))"
   ]
  },
  {
   "cell_type": "code",
   "execution_count": 7,
   "metadata": {},
   "outputs": [
    {
     "name": "stdout",
     "output_type": "stream",
     "text": [
      "[1, 2, 3, 4, 5, 6]\n",
      "[1, 2, 3, 4, 5, 6, 6]\n",
      "['b', 'c', 'k', 'd', 'e', 'f']\n",
      "[6, 7.1, 'kirad', 8]\n",
      "['b', 'c', 'k', 'd', 'e', 'f', [6, 7.1, 'kirad', 8]]\n",
      "[6, 7.1, 'kirad', 8]\n",
      "7.1\n",
      "[[9, 10], [11, 12], 'kirad', 'shakti']\n",
      "[[9, 10], 'kirad', 'shakti']\n",
      "[9, 10]\n",
      "['kirad', 'shakti']\n",
      "['b', 'c', 'k', 'd', 'e', 'f', [6, 7.1, 'kirad', 8]]\n",
      "['b', 'c', 'd', 'e', 'f', [6, 7.1, 'kirad', 8]]\n"
     ]
    }
   ],
   "source": [
    "#List apend\n",
    "a = []\n",
    "a1 = [1,2,3,4,5]\n",
    "a2=[\"b\",\"c\",\"d\",\"e\",\"f\"]\n",
    "a3=[6,\"dipesh\",7.1,\"kirad\",8]\n",
    "a4=[[9,10],[11,12]]\n",
    "a5=[\"kirad\",\"shakti\"]\n",
    "\n",
    "a1 +=[6] #adding 6 in the a1 list - method 1\n",
    "print(a1)\n",
    "\n",
    "a1.append(6) #adding 6 in the a1 list - method 2 by append function\n",
    "print(a1) #output will be 6 two times as we have already added 6 in earlier function & hence it is again adding 6\n",
    "\n",
    "#List insert\n",
    "a2.insert(2,\"k\") #inserted k in list a2 on index position of 2\n",
    "print(a2)\n",
    "\n",
    "#list remove\n",
    "a3.remove(\"dipesh\") # this will remove first instance of dipesh in the list\n",
    "print(a3)\n",
    "\n",
    "#list append #append adds as an index whereas extend adds as separate indexes\n",
    "a2.append(a3) #this will add the complete details of list a3  & extend it in list a2 but as one index \n",
    "print(a2)\n",
    "print(a2[6]) #this output shows the 6th index of list a2 after append & extend\n",
    "print(a2[6][1]) #this shows the 1st index of 6th index of a2\n",
    "\n",
    "\n",
    "#list extend #extend adds as separate indexes\n",
    "a4.extend(a5)\n",
    "print(a4)\n",
    "\n",
    "#delete the list\n",
    "del a4[1] #deleted the 1st index value of a4 list\n",
    "print(a4)\n",
    "\n",
    "#pop the list - temporary delete\n",
    "x = a4.pop(0)\n",
    "print(x)\n",
    "\n",
    "print(a4)\n",
    "\n",
    "#remove from the list\n",
    "a5.extend(a2)\n",
    "print(a2)\n",
    "a2.remove(\"k\")\n",
    "print(a2)"
   ]
  },
  {
   "cell_type": "code",
   "execution_count": 16,
   "metadata": {},
   "outputs": [
    {
     "name": "stdout",
     "output_type": "stream",
     "text": [
      "yes you are learning\n",
      "please try again\n",
      "['python', 'learning', 'kirad', 'dipesh']\n"
     ]
    }
   ],
   "source": [
    "#List realted keywords in Python\n",
    "#keyword 'in' is used to test if an item is in a list\n",
    "\n",
    "lst1 = ['dipesh','kirad','learning','python']\n",
    "\n",
    "if 'learning' in lst1:\n",
    "    print('yes you are learning')\n",
    "else:\n",
    "    print(\"sorry wrong keyword\")\n",
    "    \n",
    "if 'learnin' not in lst1:\n",
    "    print('please try again')\n",
    "    \n",
    "\n",
    "#reverse is reverses the entire list\n",
    "\n",
    "lst1.reverse()\n",
    "print(lst1)"
   ]
  },
  {
   "cell_type": "code",
   "execution_count": 34,
   "metadata": {},
   "outputs": [
    {
     "name": "stdout",
     "output_type": "stream",
     "text": [
      "\n",
      " Entered original list is :  [9, 5, 3, 8, 6, 4]\n",
      "\n",
      " Output after using the sorted function to list is :  [3, 4, 5, 6, 8, 9]\n",
      "\n",
      " Output in reverse sorted list is :  [9, 8, 6, 5, 4, 3]\n"
     ]
    }
   ],
   "source": [
    "#List Sorting\n",
    "\n",
    "#create a list with numbers\n",
    "numbers1 = [9,5,3,8,6,4]\n",
    "print(\"\\n Entered original list is : \", numbers1)\n",
    "\n",
    "numbers1.sort()\n",
    "print(\"\\n Output after using the sorted function to list is : \", sorted_a)\n",
    "\n",
    "numbers1.sort(reverse=True)\n",
    "print(\"\\n Output in reverse sorted list is : \", numbers1)\n",
    "\n",
    "#sorted_asc = sorted (numbers1)\n",
    "#print(\"Output after using the sorted function to list is : \", sorted_a)\n",
    "\n",
    "#numbers1.reverse()\n",
    "\n",
    "#print(\"Output in reverse sorted list is : \", numbers1)\n",
    "#original list remain unchanged\n"
   ]
  },
  {
   "cell_type": "code",
   "execution_count": 2,
   "metadata": {},
   "outputs": [
    {
     "name": "stdout",
     "output_type": "stream",
     "text": [
      "Original list:  [1, 2, 3, 4, 5]\n",
      "Original list:  [10]\n",
      "Reference list:  [10]\n"
     ]
    }
   ],
   "source": [
    "#List Having Multiple References\n",
    "lst = [1, 2, 3, 4, 5]\n",
    "print(\"Original list: \", lst)\n",
    "#abc = lst\n",
    "abc = []\n",
    "lst = abc\n",
    "abc.append(10)\n",
    "\n",
    "\n",
    "#print original list - now lst has been changed - mutable\n",
    "print(\"Original list: \", lst)\n",
    "print(\"Reference list: \", abc)"
   ]
  },
  {
   "cell_type": "code",
   "execution_count": 51,
   "metadata": {},
   "outputs": [
    {
     "name": "stdout",
     "output_type": "stream",
     "text": [
      "['dipesh,', 'kirad,', 'is,', 'learning,', 'python']\n",
      "dipesh, kirad, is, learning, python\n",
      "['dipesh,', 'kirad,', 'is,', 'learning,', 'python']\n"
     ]
    }
   ],
   "source": [
    "#String Split to create a list\n",
    "\n",
    "#let's take a string\n",
    "\n",
    "a = \"dipesh, kirad, is, learning, python\"\n",
    "alst = a.split(' ')\n",
    "print(alst)\n",
    "\n",
    "# default split is white-character: space or tab\n",
    "\n",
    "split_a = a.split()\n",
    "print(a)\n",
    "print(split_a)"
   ]
  },
  {
   "cell_type": "code",
   "execution_count": 63,
   "metadata": {},
   "outputs": [
    {
     "name": "stdout",
     "output_type": "stream",
     "text": [
      "[1, 2, 3, 4, 5, 6]\n",
      "4\n",
      "3\n"
     ]
    }
   ],
   "source": [
    "#List Indexing\n",
    "\n",
    "a = [1,2,3,4,5,6]\n",
    "print(a)\n",
    "\n",
    "print(a[3])\n",
    "print(a[-4])"
   ]
  },
  {
   "cell_type": "code",
   "execution_count": 68,
   "metadata": {},
   "outputs": [
    {
     "name": "stdout",
     "output_type": "stream",
     "text": [
      "\n",
      " Value of List a is :  [1, 2, 3, 4, 5, 6, 7, 8, 9, 10]\n",
      "\n",
      " All numbers are :\n",
      "[3, 1, 6, 2, 8]\n",
      "\n",
      " Numbers from index 0 to 4 are :\n",
      "[3, 1, 6, 2]\n"
     ]
    }
   ],
   "source": [
    "#List Slicing\n",
    "\n",
    "a = [1,2,3,4,5,6,7,8,9,10]\n",
    "print(\"\\n Value of List a is : \",a)\n",
    "\n",
    "\n",
    "#print all numbers\n",
    "print(\"\\n All numbers are :\")\n",
    "print(numbers[:]) \n",
    "\n",
    "#print from index 0 to index 3\n",
    "print(\"\\n Numbers from index 0 to 4 are :\")\n",
    "print(numbers[0:4])"
   ]
  },
  {
   "cell_type": "code",
   "execution_count": 75,
   "metadata": {},
   "outputs": [
    {
     "name": "stdout",
     "output_type": "stream",
     "text": [
      "[10, 20, 30, 40, 50, 60, 70, 80]\n",
      "[10, 20, 30, 40, 50, 60, 70, 80]\n",
      "\n",
      " Numbers with step size of 2 are:  [10, 30, 50, 70]\n",
      "[10, 30, 50, 70]\n",
      "[10, 30, 50]\n",
      "[30, 50, 70]\n"
     ]
    }
   ],
   "source": [
    "numbers = [10, 20, 30, 40, 50,60,70,80]\n",
    "print (numbers)\n",
    "print(numbers[:])\n",
    "\n",
    "#print alternate elements in a list\n",
    "print(\"\\n Numbers with step size of 2 are: \", numbers[::2])\n",
    "print(numbers[::2])\n",
    "\n",
    "print(numbers[:-2:2])\n",
    "\n",
    "#: means all element, -2 back from the list index with step size 2\n",
    "\n",
    "\n",
    "#print elemnts start from 0 through rest of the list\n",
    "print(numbers[2::2])"
   ]
  },
  {
   "cell_type": "code",
   "execution_count": 78,
   "metadata": {},
   "outputs": [
    {
     "name": "stdout",
     "output_type": "stream",
     "text": [
      "[1, 2, 3, 4, 'varma', 'naveen', 'murali', 'brahma']\n"
     ]
    }
   ],
   "source": [
    "#list extend using \"+\"\n",
    "lst1 = [1, 2, 3, 4]\n",
    "lst2 = ['varma', 'naveen', 'murali', 'brahma']\n",
    "lst3 = lst1 + lst2\n",
    "\n",
    "print(lst3)"
   ]
  },
  {
   "cell_type": "code",
   "execution_count": 81,
   "metadata": {},
   "outputs": [
    {
     "name": "stdout",
     "output_type": "stream",
     "text": [
      "8\n",
      "4\n"
     ]
    }
   ],
   "source": [
    "#List Count\n",
    "a = [1, 2, 3, 1,1,1,1, 3, 4, 2, 5,8,7,6,4,3,1,2,4,5,6,8,1,1,3,]\n",
    "\n",
    "#frequency of 1 in a list\n",
    "print(a.count(1))\n",
    "\n",
    "#frequency of 3 in a list\n",
    "print(a.count(3))"
   ]
  },
  {
   "cell_type": "code",
   "execution_count": 84,
   "metadata": {},
   "outputs": [
    {
     "name": "stdout",
     "output_type": "stream",
     "text": [
      "H\n",
      "2\n"
     ]
    }
   ],
   "source": [
    "s = ['H','e','l','l','0']\n",
    "s1 = 'Hello'\n",
    "\n",
    "print(s1[0])\n",
    "\n",
    "print(s1.count('l'))"
   ]
  },
  {
   "cell_type": "code",
   "execution_count": 92,
   "metadata": {},
   "outputs": [
    {
     "name": "stdout",
     "output_type": "stream",
     "text": [
      "one\n",
      "two\n",
      "three\n",
      "four\n"
     ]
    }
   ],
   "source": [
    "#List Looping\n",
    "\n",
    "#loop through a list\n",
    "\n",
    "a = ['one', 'two', 'three', 'four']\n",
    "\n",
    "for element in lst:\n",
    "    print(element)"
   ]
  },
  {
   "cell_type": "code",
   "execution_count": 17,
   "metadata": {},
   "outputs": [
    {
     "name": "stdout",
     "output_type": "stream",
     "text": [
      "Please enter a number :5\n",
      "[0, 1, 4, 9, 16]\n"
     ]
    }
   ],
   "source": [
    "#List Comprehensions\n",
    "#List comprehensions provide a concise way to create lists.Common applications are to make new lists\n",
    "#where each element is the result of some operations applied to each member of another sequence or iterable\n",
    "# or to create a subsequence of those elements that satisfy a certain condition\n",
    "\n",
    "# without list comprehension\n",
    "\n",
    "squares = []  # output shall be in list format\n",
    "\n",
    "x = int(input(\"Please enter a number :\")) # asked the value till which the output is required\n",
    "\n",
    "for i in range(x):\n",
    "\n",
    "    squares.append(i**2)   #list append\n",
    "print(squares)"
   ]
  },
  {
   "cell_type": "code",
   "execution_count": 18,
   "metadata": {},
   "outputs": [
    {
     "name": "stdout",
     "output_type": "stream",
     "text": [
      "Please enter a number :5\n",
      "[0, 1, 4, 9, 16]\n"
     ]
    }
   ],
   "source": [
    "#using list comprehension\n",
    "\n",
    "x = int(input(\"Please enter a number :\")) # asked the value till which the output is required\n",
    "\n",
    "squares = [i**2 for i in range (x)]\n",
    "print(squares)"
   ]
  },
  {
   "cell_type": "code",
   "execution_count": 19,
   "metadata": {},
   "outputs": [
    {
     "name": "stdout",
     "output_type": "stream",
     "text": [
      "Please enter a number for x :-3\n",
      "Please enter a number for y :5\n",
      "Please enter a number for z :7\n",
      "[-6, 10, 14]\n",
      "[5, 7]\n",
      "[(0, 0), (1, 1), (2, 4), (3, 9), (4, 16), (5, 25), (6, 36), (7, 49), (8, 64), (9, 81)]\n"
     ]
    }
   ],
   "source": [
    "#example for list comprehension\n",
    "\n",
    "x = int(input(\"Please enter a number for x :\"))\n",
    "y = int(input(\"Please enter a number for y :\"))\n",
    "z = int(input(\"Please enter a number for z :\"))\n",
    "\n",
    "lst = [x,y,z]\n",
    "\n",
    "#create a new list with values doubled\n",
    "new_lst = [i*2 for i in lst]\n",
    "print(new_lst)\n",
    "\n",
    "#filter the list to exclude negative numbers\n",
    "new_lst = [i for i in lst if i >= 0]\n",
    "print(new_lst)\n",
    "\n",
    "\n",
    "#create a list of tuples like (number, square_of_number)\n",
    "new_lst = [(i, i**2) for i in range(10)]\n",
    "print(new_lst)"
   ]
  }
 ],
 "metadata": {
  "kernelspec": {
   "display_name": "Python 3",
   "language": "python",
   "name": "python3"
  },
  "language_info": {
   "codemirror_mode": {
    "name": "ipython",
    "version": 3
   },
   "file_extension": ".py",
   "mimetype": "text/x-python",
   "name": "python",
   "nbconvert_exporter": "python",
   "pygments_lexer": "ipython3",
   "version": "3.7.4"
  }
 },
 "nbformat": 4,
 "nbformat_minor": 2
}
