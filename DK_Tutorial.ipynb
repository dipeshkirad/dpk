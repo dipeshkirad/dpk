{
 "cells": [
  {
   "cell_type": "code",
   "execution_count": 8,
   "metadata": {},
   "outputs": [
    {
     "name": "stdout",
     "output_type": "stream",
     "text": [
      "['False', 'None', 'True', 'and', 'as', 'assert', 'async', 'await', 'break', 'class', 'continue', 'def', 'del', 'elif', 'else', 'except', 'finally', 'for', 'from', 'global', 'if', 'import', 'in', 'is', 'lambda', 'nonlocal', 'not', 'or', 'pass', 'raise', 'return', 'try', 'while', 'with', 'yield']\n",
      "Total number of keywords 35\n"
     ]
    }
   ],
   "source": [
    "import keyword as xy\n",
    "print(xy.kwlist)\n",
    "print(\"Total number of keywords\",len(xy.kwlist))"
   ]
  },
  {
   "cell_type": "code",
   "execution_count": 9,
   "metadata": {},
   "outputs": [
    {
     "name": "stdout",
     "output_type": "stream",
     "text": [
      "Alok Alok Alok\n",
      "1 2 34\n",
      "Aeroplane\n",
      "A\n",
      "ero\n"
     ]
    }
   ],
   "source": [
    "print('Alok',\"Alok\",\"\"\"Alok\"\"\")\n",
    "print(1,2,34)\n",
    "\n",
    "#print(arg)\n",
    "a='Aeroplane'\n",
    "print(a)\n",
    "# indexing--  A   E  R  O  P  L  A  N  E\n",
    " #positive--  0   1  2  3  4  5  6  7  8\n",
    " # negative- -9  -8 -7 -6 -5 -4 -3 -2 -1 \n",
    "\n",
    "print(a[0]) # single element\n",
    "\n",
    "# slicing\n",
    "print(a[1:4])   #[start:end(end-1)]\n"
   ]
  },
  {
   "cell_type": "code",
   "execution_count": 10,
   "metadata": {},
   "outputs": [
    {
     "name": "stdout",
     "output_type": "stream",
     "text": [
      "['False', 'None', 'True', 'and', 'as', 'assert', 'async', 'await', 'break', 'class', 'continue', 'def', 'del', 'elif', 'else', 'except', 'finally', 'for', 'from', 'global', 'if', 'import', 'in', 'is', 'lambda', 'nonlocal', 'not', 'or', 'pass', 'raise', 'return', 'try', 'while', 'with', 'yield']\n",
      "total no of keywords are  35\n"
     ]
    }
   ],
   "source": [
    "import keyword as dk\n",
    "print(dk.kwlist)\n",
    "print(\"total no of keywords are \", len(dk.kwlist))"
   ]
  },
  {
   "cell_type": "markdown",
   "metadata": {},
   "source": []
  },
  {
   "cell_type": "code",
   "execution_count": 11,
   "metadata": {},
   "outputs": [
    {
     "name": "stdout",
     "output_type": "stream",
     "text": [
      "8\n"
     ]
    }
   ],
   "source": [
    "d2 = 8\n",
    "print(d2)"
   ]
  },
  {
   "cell_type": "code",
   "execution_count": 12,
   "metadata": {},
   "outputs": [
    {
     "name": "stdout",
     "output_type": "stream",
     "text": [
      "35\n"
     ]
    }
   ],
   "source": [
    "_ak20=35\n",
    "print(_ak20)\n",
    "abcj=100"
   ]
  },
  {
   "cell_type": "code",
   "execution_count": 13,
   "metadata": {},
   "outputs": [
    {
     "name": "stdout",
     "output_type": "stream",
     "text": [
      "Hello DK\n"
     ]
    },
    {
     "data": {
      "text/plain": [
       "'This is dipesh\\nkirad\\nand \\nDPK'"
      ]
     },
     "execution_count": 13,
     "metadata": {},
     "output_type": "execute_result"
    }
   ],
   "source": [
    "print (\"Hello DK\")\n",
    "\"\"\"This is dipesh\n",
    "kirad\n",
    "and \n",
    "DPK\"\"\""
   ]
  },
  {
   "cell_type": "code",
   "execution_count": 14,
   "metadata": {},
   "outputs": [
    {
     "name": "stdout",
     "output_type": "stream",
     "text": [
      "Dipesh Kirad is calculating area\n",
      "24\n"
     ]
    }
   ],
   "source": [
    "def dk(l,b,h):\n",
    "    \"\"\"Dipesh Kirad is calculating area\"\"\"\n",
    "    return (l*b*h)\n",
    "print(dk.__doc__)\n",
    "print(dk(2,3,4))"
   ]
  },
  {
   "cell_type": "code",
   "execution_count": 15,
   "metadata": {},
   "outputs": [
    {
     "name": "stdout",
     "output_type": "stream",
     "text": [
      "Dipesh Kirad is \n",
      "    calculating pi value with area\n",
      "18.84\n"
     ]
    }
   ],
   "source": [
    "def dk1(l,w,pi=3.14):\n",
    "\n",
    "    \"\"\"Dipesh Kirad is \n",
    "    calculating pi value with area\"\"\"\n",
    "    \n",
    "    return (l * w * pi)\n",
    "print(dk1.__doc__)\n",
    "print (dk1(2,3))"
   ]
  },
  {
   "cell_type": "code",
   "execution_count": 16,
   "metadata": {},
   "outputs": [
    {
     "name": "stdout",
     "output_type": "stream",
     "text": [
      "DK is trying to get\n",
      "    output\n",
      "24\n"
     ]
    }
   ],
   "source": [
    "def dk3(l,w,h):\n",
    "    \"\"\"DK is trying to get\n",
    "    output\"\"\"\n",
    "    return (l*w*h)\n",
    "print(dk3.__doc__)\n",
    "    \n",
    "\n",
    "print (dk3(2,3,4))"
   ]
  },
  {
   "cell_type": "code",
   "execution_count": 17,
   "metadata": {},
   "outputs": [
    {
     "name": "stdout",
     "output_type": "stream",
     "text": [
      "DK tried it\n",
      "12\n",
      "14\n",
      "16\n"
     ]
    }
   ],
   "source": [
    "\"\"\"DK tried it\"\"\"\n",
    "print(__doc__)\n",
    "for i in range(12,18):\n",
    "    if (i%2==0):\n",
    "        print(i)\n"
   ]
  },
  {
   "cell_type": "code",
   "execution_count": 18,
   "metadata": {},
   "outputs": [
    {
     "name": "stdout",
     "output_type": "stream",
     "text": [
      "Factorial of\n",
      "120\n"
     ]
    }
   ],
   "source": [
    "\"\"\"Factorial of\"\"\"\n",
    "print(__doc__)\n",
    "import math as Data\n",
    "print(Data.factorial(5))"
   ]
  },
  {
   "cell_type": "code",
   "execution_count": 19,
   "metadata": {},
   "outputs": [
    {
     "data": {
      "text/plain": [
       "120"
      ]
     },
     "execution_count": 19,
     "metadata": {},
     "output_type": "execute_result"
    }
   ],
   "source": [
    "def acto(n):\n",
    "    return 1 if n==0 else n*acto(n-1)\n",
    "acto(5)"
   ]
  },
  {
   "cell_type": "code",
   "execution_count": 20,
   "metadata": {},
   "outputs": [
    {
     "name": "stdout",
     "output_type": "stream",
     "text": [
      "Machine Learning\n",
      "3053706632304\n",
      "3053706630512\n",
      "DK is trying\n"
     ]
    }
   ],
   "source": [
    "\"\"\"Machine Learning\"\"\"\n",
    "print(__doc__)\n",
    "c = \" Dipesh kirad\"\n",
    "d =  \"AAIC\"\n",
    "print(id(c))\n",
    "print (id(d))\n",
    "\n",
    "print(\"DK is trying\"); d=\"asasaa\""
   ]
  },
  {
   "cell_type": "code",
   "execution_count": 21,
   "metadata": {},
   "outputs": [
    {
     "name": "stdout",
     "output_type": "stream",
     "text": [
      "1\n",
      "11\n",
      "30\n"
     ]
    }
   ],
   "source": [
    "a =1\n",
    "print(a)\n",
    "b= (1+2\n",
    "    +3+5)\n",
    "print(b)\n",
    "d = 10; e = 20\n",
    "print(d+e)"
   ]
  },
  {
   "cell_type": "code",
   "execution_count": 22,
   "metadata": {},
   "outputs": [
    {
     "name": "stdout",
     "output_type": "stream",
     "text": [
      "Name of person is dipesh\n",
      "<class 'str'>\n",
      "Value of a is 10\n",
      "<class 'int'>\n"
     ]
    }
   ],
   "source": [
    "name = \"dipesh\"\n",
    "print(\"Name of person is\",name)\n",
    "print(type(name))\n",
    "\n",
    "a =10\n",
    "print(\"Value of a is\", a)\n",
    "print(type(a))"
   ]
  },
  {
   "cell_type": "code",
   "execution_count": 23,
   "metadata": {},
   "outputs": [
    {
     "name": "stdout",
     "output_type": "stream",
     "text": [
      "The value of a is 3 & value of b is 2\n",
      "The new value of a is 2 & value of b is 3\n"
     ]
    }
   ],
   "source": [
    "a =2; b=3\n",
    "print(\"The value of a is {1} & value of b is {0}\".format(a,b))        #default\n",
    "print(\"The new value of a is {} & value of b is {}\".format(a,b))      #specify the postion of arguments"
   ]
  },
  {
   "cell_type": "code",
   "execution_count": 24,
   "metadata": {},
   "outputs": [
    {
     "name": "stdout",
     "output_type": "stream",
     "text": [
      "Hi Mr dipesh please welcome we greet you as Good evening\n",
      "Hi we greet you as Good evening , Mr dipesh\n"
     ]
    }
   ],
   "source": [
    "name = \"dipesh\"; greeting = \"Good evening\"\n",
    "print (\"Hi Mr {} please welcome we greet you as {}\".format(name,greeting))\n",
    "print (\"Hi we greet you as {1} , Mr {0}\".format(name,greeting))"
   ]
  },
  {
   "cell_type": "markdown",
   "metadata": {},
   "source": []
  },
  {
   "cell_type": "code",
   "execution_count": 25,
   "metadata": {},
   "outputs": [
    {
     "name": "stdout",
     "output_type": "stream",
     "text": [
      "You have entered the name as : \n",
      " 5\n",
      "Enter a number please : 6\n",
      "ENtered Number is 6\n"
     ]
    }
   ],
   "source": [
    "\"\"\"You have entered the name as : \"\"\"\n",
    "print(__doc__)\n",
    "name = input ( \" \" )\n",
    "\n",
    "num = input(\"Enter a number please : \")\n",
    "print(\"ENtered Number is\", num)\n"
   ]
  },
  {
   "cell_type": "code",
   "execution_count": 26,
   "metadata": {},
   "outputs": [
    {
     "name": "stdout",
     "output_type": "stream",
     "text": [
      "11\n",
      "7\n",
      "4.5\n",
      "4\n",
      "18\n",
      "1\n",
      "81\n"
     ]
    }
   ],
   "source": [
    "# Arithmetic Operator\n",
    "x, y = 9,2\n",
    "\n",
    "print(x + y)      #addition\n",
    "print(x-y)        #subtraction(-)\n",
    "print(x/y)        #division(/) (will take in fraction)\n",
    "print(x//y)       #Floor Division (//)\n",
    "print(x*y)       #multiplication(*)\n",
    "print(x%y)      #modulo division (%) \n",
    "print(x**y)     #Exponent (**)"
   ]
  },
  {
   "cell_type": "code",
   "execution_count": 27,
   "metadata": {},
   "outputs": [
    {
     "name": "stdout",
     "output_type": "stream",
     "text": [
      "10 20\n",
      "False\n",
      "20\n",
      "10\n",
      "new test scenario\n",
      "('a and b is', False)\n",
      "('a or b is', True)\n",
      "('not a is', False)\n",
      "Trial of comparison operator\n",
      "('x > y  is', True)\n"
     ]
    }
   ],
   "source": [
    "# Comparison Operator\n",
    "a = 10; b = 20\n",
    "print(a,b)\n",
    "print(not b)\n",
    "print (a and b)\n",
    "print (a or b)\n",
    "\n",
    "print (\"new test scenario\")\n",
    "\n",
    "a = True\n",
    "b = False\n",
    "print(('a and b is',a and b))\n",
    "print(('a or b is',a or b))\n",
    "print(('not a is',not a))\n",
    "\n",
    "print (\"Trial of comparison operator\")\n",
    "x = 6\n",
    "y = 5\n",
    "print(('x > y  is',x>y))"
   ]
  },
  {
   "cell_type": "code",
   "execution_count": 28,
   "metadata": {
    "scrolled": true
   },
   "outputs": [
    {
     "name": "stdout",
     "output_type": "stream",
     "text": [
      "Line 1 - Value of num1 :  4\n",
      "Line 2 - Value of num2 :  5\n",
      "One more addition of 4  to the Initial output which is 13  is 13\n",
      "Value of a is : 5\n",
      "Value of b is :  9\n",
      "Total is : 225\n"
     ]
    }
   ],
   "source": [
    "# Example of Assignment operator\n",
    "num1 = 4\n",
    "num2 = 5\n",
    "print(\"Line 1 - Value of num1 : \", num1)\n",
    "print(\"Line 2 - Value of num2 : \", num2)\n",
    "res = num1 + num2\n",
    "res += num1\n",
    "print(\"One more addition of {}\".format(num1), \" to the Initial output which is {} \".format(res), \"\"\"is\"\"\" ,res)\n",
    "\n",
    "a =5\n",
    "b =9\n",
    "print(\"Value of a is :\", a)\n",
    "print (\"Value of b is : \", b)\n",
    "multi = a *b\n",
    "multi*=a                            # first 2 * 3 = 6 then 2 *3 * 2 (which is multi *=a)\n",
    "print(\"Total is :\", multi)"
   ]
  },
  {
   "cell_type": "code",
   "execution_count": 29,
   "metadata": {},
   "outputs": [
    {
     "name": "stdout",
     "output_type": "stream",
     "text": [
      "('a and b is', False)\n",
      "('a or b is', True)\n",
      "('not a is', False)\n"
     ]
    }
   ],
   "source": [
    "# Logical Operators\n",
    "a = True\n",
    "b = False\n",
    "print(('a and b is',a and b)) # Return True if both values are True\n",
    "print(('a or b is',a or b))   # Return True if either operand value is True\n",
    "print(('not a is',not a))     # Return True if operand is false"
   ]
  },
  {
   "cell_type": "code",
   "execution_count": 30,
   "metadata": {},
   "outputs": [
    {
     "name": "stdout",
     "output_type": "stream",
     "text": [
      "Value of (v+w) * x/ y is  36.0\n"
     ]
    }
   ],
   "source": [
    "#Operator Precedence\n",
    "v = 4\n",
    "w = 5\n",
    "x = 8\n",
    "y = 2\n",
    "z = 0\n",
    "z = (v+w) * x / y\n",
    "print(\"Value of (v+w) * x/ y is \",  z)"
   ]
  },
  {
   "cell_type": "code",
   "execution_count": 31,
   "metadata": {},
   "outputs": [
    {
     "name": "stdout",
     "output_type": "stream",
     "text": [
      "8\n",
      "5\n",
      "1280\n",
      "0\n"
     ]
    }
   ],
   "source": [
    "# Bitwise Operators\n",
    "a, b = 5, 8\n",
    "\n",
    "print (a and b)\n",
    "\n",
    "print(a or b)\n",
    "\n",
    "print(a << b)\n",
    "\n",
    "#print(a ~ b)\n",
    "\n",
    "print(a >> b)"
   ]
  },
  {
   "cell_type": "code",
   "execution_count": 32,
   "metadata": {},
   "outputs": [
    {
     "name": "stdout",
     "output_type": "stream",
     "text": [
      "3\n",
      "9\n",
      "79\n"
     ]
    }
   ],
   "source": [
    "a = 2\n",
    "\n",
    "a += 1         #add AND\n",
    "print(a)\n",
    "\n",
    "#a = a+10\n",
    "\n",
    "b = 79\n",
    "c = 90\n",
    "\n",
    "a = a ^ 10\n",
    "print(a)\n",
    "\n",
    "print(b%c)\n",
    "\n",
    "#subtract AND (-=)\n",
    "\n",
    "#Multiply AND (*=)\n",
    "\n",
    "#Divide AND (/=)\n",
    "\n",
    "#Modulus AND (%=)\n",
    "\n",
    "#Floor Division (//=)\n",
    "\n",
    "#Exponent AND (**=)"
   ]
  },
  {
   "cell_type": "code",
   "execution_count": 33,
   "metadata": {},
   "outputs": [
    {
     "name": "stdout",
     "output_type": "stream",
     "text": [
      "Line 1 - Value of c is  5\n",
      "Line 2 - Value of c is  7\n",
      "Line 3 - Value of c is  14\n",
      "Line 4 - Value of c is  7.0\n",
      "Line 5 - Value of c is  1.0\n",
      "Line 6 - Value of c is  1.0\n",
      "Line 7 - Value of c is  0.0\n"
     ]
    }
   ],
   "source": [
    "# Assignment Operators\n",
    "\n",
    "a = 2\n",
    "b = 3\n",
    "c = 4\n",
    "\n",
    "c = a + b\n",
    "print (\"Line 1 - Value of c is \", c)\n",
    "\n",
    "c += a\n",
    "print (\"Line 2 - Value of c is \", c )\n",
    "\n",
    "c *= a\n",
    "print (\"Line 3 - Value of c is \", c )\n",
    "\n",
    "c /= a \n",
    "print (\"Line 4 - Value of c is \", c )\n",
    "\n",
    "c %= a\n",
    "print (\"Line 5 - Value of c is \", c)\n",
    "\n",
    "c **= a\n",
    "print (\"Line 6 - Value of c is \", c)\n",
    "\n",
    "c //= a\n",
    "print (\"Line 7 - Value of c is \", c)"
   ]
  },
  {
   "cell_type": "code",
   "execution_count": 34,
   "metadata": {},
   "outputs": [
    {
     "ename": "SyntaxError",
     "evalue": "invalid syntax (<ipython-input-34-122d0d3970e5>, line 1)",
     "output_type": "error",
     "traceback": [
      "\u001b[1;36m  File \u001b[1;32m\"<ipython-input-34-122d0d3970e5>\"\u001b[1;36m, line \u001b[1;32m1\u001b[0m\n\u001b[1;33m    num =\u001b[0m\n\u001b[1;37m         ^\u001b[0m\n\u001b[1;31mSyntaxError\u001b[0m\u001b[1;31m:\u001b[0m invalid syntax\n"
     ]
    }
   ],
   "source": [
    "num =\n",
    "\n",
    "# try 0, -1 and None\n",
    "if None:\n",
    "    print(\"Number is positive\")\n",
    "\n",
    "print(\"This will print always\")      #This print statement always print\n",
    "\n",
    "#change number "
   ]
  },
  {
   "cell_type": "code",
   "execution_count": null,
   "metadata": {},
   "outputs": [],
   "source": [
    "#If statement\n",
    "x = int(input(\"Please enter a number :\"))\n",
    "if x <0:\n",
    "    x=0\n",
    "    print (\"You have entered a negative number & hence it has been considered as Zero\")\n",
    "elif x == 0:\n",
    "    print (\"You have entered an integer but its Zero\")\n",
    "else :\n",
    "    print (\"The entered number is an integer & is \",x)"
   ]
  },
  {
   "cell_type": "code",
   "execution_count": 35,
   "metadata": {},
   "outputs": [
    {
     "name": "stdout",
     "output_type": "stream",
     "text": [
      "Please enter the value of a  8\n",
      "Please enter the value of b  12\n",
      "Please enter the value of c  9\n",
      "a =   8\n",
      "b =   12\n",
      "c =   9\n",
      "From the entered values the largest number is : 12\n"
     ]
    }
   ],
   "source": [
    "# Example for if & else statement\n",
    "\n",
    "a = int (input (\"Please enter the value of a  \"))\n",
    "b = int (input(\"Please enter the value of b  \"))\n",
    "c = int (input(\"Please enter the value of c  \"))\n",
    "print (\"a =  \", a)\n",
    "print (\"b =  \", b)\n",
    "print (\"c =  \", c)\n",
    "if a<0:\n",
    "    a=0\n",
    "    print (\"Being entered a negative number we considered value a as Zero\")\n",
    "elif a ==0:\n",
    "    print(\"The entered value as Zero for a\")\n",
    "if b<0:\n",
    "    b=0\n",
    "    print (\"Being entered a negative number we considered value b as Zero\")\n",
    "elif b ==0:\n",
    "    print(\"The entered value as Zero for b\")\n",
    "if c<0:\n",
    "    c=0\n",
    "    print (\"Being entered a negative number we considered value c as Zero\")\n",
    "elif c ==0:\n",
    "    print(\"The entered value as Zero for c\")\n",
    "\n",
    "if (a>=b) and (b>=c):\n",
    "    largest = a\n",
    "elif (b>=c) and (b>=a):\n",
    "    largest = b\n",
    "else:\n",
    "    largest = c\n",
    "print (\"From the entered values the largest number is : {}\".format(largest))"
   ]
  },
  {
   "cell_type": "code",
   "execution_count": 78,
   "metadata": {},
   "outputs": [
    {
     "name": "stdout",
     "output_type": "stream",
     "text": [
      "Product is: 36\n"
     ]
    }
   ],
   "source": [
    "#Find product of all numbers present in a list using while loop\n",
    "\n",
    "lst = [3, 3, 4]\n",
    "\n",
    "a = 1\n",
    "b = 0\n",
    "\n",
    "while (b < len(lst)):         #while (0< length of list 3, a = a * 3 which is 0th index of list, answer is  = 3 )\n",
    "    a *= lst[b]\n",
    "    b += 1\n",
    "\n",
    "print(\"Product is: {}\".format(a))"
   ]
  },
  {
   "cell_type": "code",
   "execution_count": 80,
   "metadata": {},
   "outputs": [
    {
     "name": "stdout",
     "output_type": "stream",
     "text": [
      "25\n",
      "18\n",
      "9\n",
      "12\n",
      "no item left in the list\n"
     ]
    }
   ],
   "source": [
    "list = [1,25,18,9,12]\n",
    "\n",
    "#iterating over the list\n",
    "\n",
    "x= 1\n",
    "\n",
    "while x < len(list):\n",
    "    print(list[x])\n",
    "    x += 1\n",
    "    \n",
    "else:\n",
    "    print(\"no item left in the list\")"
   ]
  },
  {
   "cell_type": "code",
   "execution_count": 76,
   "metadata": {},
   "outputs": [
    {
     "name": "stdout",
     "output_type": "stream",
     "text": [
      "Enter a number: 18\n",
      "18 is divisible by 2\n",
      "18 is divisible by 3\n",
      "18 is divisible by 6\n",
      "18 is divisible by 9\n",
      "18 is NOT a Prime number\n"
     ]
    }
   ],
   "source": [
    "#Python Program to check given number is Prime number & Even or not\n",
    "\n",
    "num = int(input(\"Enter a number: \"))        #convert string to int\n",
    "\n",
    "isdivisible = False;\n",
    "\n",
    "i=2;\n",
    "while num > i:\n",
    "    if num % i == 0:\n",
    "        isdivisible = True;\n",
    "        print (\"{} is divisible by {}\".format(num,i) )\n",
    "    i += 1;\n",
    "    \n",
    "if isdivisible:\n",
    "    print(\"{} is NOT a Prime number\".format(num))\n",
    "\n",
    "else:\n",
    "    print(\"{} is a Prime number\".format(num))\n",
    "    "
   ]
  },
  {
   "cell_type": "code",
   "execution_count": 94,
   "metadata": {},
   "outputs": [
    {
     "name": "stdout",
     "output_type": "stream",
     "text": [
      "Product is: 36\n"
     ]
    }
   ],
   "source": [
    "#Find product of all numbers present in a list\n",
    "\n",
    "lst = [3,3,4]\n",
    "\n",
    "start = 1\n",
    "#iterating over the list\n",
    "for ele in lst:\n",
    "    start *= ele\n",
    "\n",
    "print(\"Product is: {}\".format(start))"
   ]
  },
  {
   "cell_type": "code",
   "execution_count": 99,
   "metadata": {},
   "outputs": [
    {
     "name": "stdout",
     "output_type": "stream",
     "text": [
      "0\n",
      "1\n",
      "2\n",
      "3\n",
      "4\n",
      "5\n",
      "6\n",
      "7\n",
      "8\n",
      "9\n"
     ]
    }
   ],
   "source": [
    "for i in range(10):\n",
    "    print (i)"
   ]
  },
  {
   "cell_type": "code",
   "execution_count": 104,
   "metadata": {},
   "outputs": [
    {
     "name": "stdout",
     "output_type": "stream",
     "text": [
      "0\n",
      "5\n",
      "10\n",
      "15\n"
     ]
    }
   ],
   "source": [
    "#print range of numbers from 1 to 20 with step size of 2\n",
    "for i in range(0, 20, 5):\n",
    "    print(i)"
   ]
  },
  {
   "cell_type": "code",
   "execution_count": 118,
   "metadata": {},
   "outputs": [
    {
     "name": "stdout",
     "output_type": "stream",
     "text": [
      "Below details are output of list using index :\n",
      "satish\n",
      "srinu\n",
      "murali\n",
      "naveen\n",
      "bramha\n",
      "Below details are output of list using elements of Range :\n",
      "satish\n",
      "srinu\n",
      "murali\n",
      "naveen\n",
      "bramha\n"
     ]
    }
   ],
   "source": [
    "lst = [\"satish\", \"srinu\", \"murali\", \"naveen\", \"bramha\"]\n",
    "\n",
    "#iterate over the list using index\n",
    "print (\"Below details are output of list using index :\")\n",
    "for index in range(len(lst)):\n",
    "       print(lst[index])\n",
    "\n",
    "print (\"Below details are output of list using elements of Range :\")\n",
    "for strings in lst:\n",
    "    print(strings)"
   ]
  },
  {
   "cell_type": "code",
   "execution_count": 131,
   "metadata": {},
   "outputs": [
    {
     "name": "stdout",
     "output_type": "stream",
     "text": [
      "1\n",
      "2\n",
      "3\n",
      "List is over\n",
      "1\n",
      "2\n",
      "3\n",
      "no item left in the list\n"
     ]
    }
   ],
   "source": [
    "#for loop with else\n",
    "numbers = [1, 2, 3]\n",
    "\n",
    "#iterate over the list using index\n",
    "for i in range (len(numbers)):\n",
    "    print (numbers[i])\n",
    "print(\"List is over\")\n",
    "\n",
    "#iterating over the list\n",
    "for i in numbers:\n",
    "    print(i)\n",
    "else:\n",
    "    print(\"no item left in the list\")"
   ]
  },
  {
   "cell_type": "code",
   "execution_count": 140,
   "metadata": {},
   "outputs": [
    {
     "name": "stdout",
     "output_type": "stream",
     "text": [
      "1\n",
      "2\n",
      "Code is Executed\n",
      "3\n",
      "No items balance in list\n"
     ]
    }
   ],
   "source": [
    "numbers = [1,2,3]\n",
    "for i in numbers:\n",
    "    print (i)\n",
    "    if i%2==0:\n",
    "        print (\"Code is Executed\")\n",
    "    \n",
    "else:\n",
    "    print (\"No items balance in list\")"
   ]
  },
  {
   "cell_type": "code",
   "execution_count": 223,
   "metadata": {},
   "outputs": [
    {
     "name": "stdout",
     "output_type": "stream",
     "text": [
      "Please enter the value of first input :  1\n",
      "Please enter the value of second input :  10\n",
      "Prime numbers between 1 and 10 are :\n",
      "1\n",
      "2\n",
      "3\n",
      "5\n",
      "7\n"
     ]
    }
   ],
   "source": [
    "#Python Program to display all prime numbers within an interval\n",
    "\n",
    "a = int (input (\"Please enter the value of first input :  \")) #Enter a as 1\n",
    "b = int (input(\"Please enter the value of second input :  \")) # Enter b as 10\n",
    "\n",
    "\n",
    "print(\"Prime numbers between {} and {} are :\".format(a, b)) #Values are (1,10)\n",
    "\n",
    "for num in range(a, b):      #for num in range(1,10)\n",
    "\n",
    "    #if num > 1:\n",
    "        isDiv = False;\n",
    "        \n",
    "        for ind in range(2,num):   #for index in range(2nd index of series i.e. 1,2,3,4,5,6,7,8,9,10)\n",
    "            if num % ind == 0:\n",
    "                isDiv = True;\n",
    "        if not isDiv:        \n",
    "            print(num);"
   ]
  },
  {
   "cell_type": "code",
   "execution_count": 24,
   "metadata": {},
   "outputs": [
    {
     "name": "stdout",
     "output_type": "stream",
     "text": [
      "[1, 2, 3, 4, 5]\n",
      "['b', 'c', 'd', 'e', 'f']\n",
      "[6, 'dipesh', 7.1, 'kirad', 8]\n",
      "[[9, 10], [11, 12]]\n",
      "[[9, 10], [13, 14]]\n",
      "[1, 2, 3, 4, 15]\n",
      "[[9, 10], [13, 16]]\n",
      "[9, 10]\n",
      "5\n",
      "<class 'list'>\n",
      "5\n",
      "<class 'list'>\n",
      "5\n",
      "<class 'list'>\n",
      "2\n",
      "<class 'list'>\n"
     ]
    }
   ],
   "source": [
    "#List Creation\n",
    "\n",
    "a = []\n",
    "a1 = [1,2,3,4,5]\n",
    "a2=[\"b\",\"c\",\"d\",\"e\",\"f\"]\n",
    "a3=[6,\"dipesh\",7.1,\"kirad\",8]\n",
    "a4=[[9,10],[11,12]]\n",
    "\n",
    "print(a1)\n",
    "print(a2)\n",
    "print(a3)\n",
    "print(a4)\n",
    "\n",
    "a4[1]=[13,14] #changing based on the index value\n",
    "print(a4)\n",
    "\n",
    "a1[4]=15\n",
    "print(a1)\n",
    "\n",
    "a4[1][1]=16\n",
    "print(a4)\n",
    "\n",
    "print(a4[0])\n",
    "\n",
    "print(len(a1))\n",
    "print(type(a1))\n",
    "\n",
    "print(len(a2))\n",
    "print(type(a2))\n",
    "\n",
    "print(len(a3))\n",
    "print(type(a3))\n",
    "\n",
    "print(len(a4))\n",
    "print(type(a4))"
   ]
  },
  {
   "cell_type": "code",
   "execution_count": 7,
   "metadata": {},
   "outputs": [
    {
     "name": "stdout",
     "output_type": "stream",
     "text": [
      "[1, 2, 3, 4, 5, 6]\n",
      "[1, 2, 3, 4, 5, 6, 6]\n",
      "['b', 'c', 'k', 'd', 'e', 'f']\n",
      "[6, 7.1, 'kirad', 8]\n",
      "['b', 'c', 'k', 'd', 'e', 'f', [6, 7.1, 'kirad', 8]]\n",
      "[6, 7.1, 'kirad', 8]\n",
      "7.1\n",
      "[[9, 10], [11, 12], 'kirad', 'shakti']\n",
      "[[9, 10], 'kirad', 'shakti']\n",
      "[9, 10]\n",
      "['kirad', 'shakti']\n",
      "['b', 'c', 'k', 'd', 'e', 'f', [6, 7.1, 'kirad', 8]]\n",
      "['b', 'c', 'd', 'e', 'f', [6, 7.1, 'kirad', 8]]\n"
     ]
    }
   ],
   "source": [
    "#List apend\n",
    "a = []\n",
    "a1 = [1,2,3,4,5]\n",
    "a2=[\"b\",\"c\",\"d\",\"e\",\"f\"]\n",
    "a3=[6,\"dipesh\",7.1,\"kirad\",8]\n",
    "a4=[[9,10],[11,12]]\n",
    "a5=[\"kirad\",\"shakti\"]\n",
    "\n",
    "a1 +=[6] #adding 6 in the a1 list - method 1\n",
    "print(a1)\n",
    "\n",
    "a1.append(6) #adding 6 in the a1 list - method 2 by append function\n",
    "print(a1) #output will be 6 two times as we have already added 6 in earlier function & hence it is again adding 6\n",
    "\n",
    "#List insert\n",
    "a2.insert(2,\"k\") #inserted k in list a2 on index position of 2\n",
    "print(a2)\n",
    "\n",
    "#list remove\n",
    "a3.remove(\"dipesh\") # this will remove first instance of dipesh in the list\n",
    "print(a3)\n",
    "\n",
    "#list append #append adds as an index whereas extend adds as separate indexes\n",
    "a2.append(a3) #this will add the complete details of list a3  & extend it in list a2 but as one index \n",
    "print(a2)\n",
    "print(a2[6]) #this output shows the 6th index of list a2 after append & extend\n",
    "print(a2[6][1]) #this shows the 1st index of 6th index of a2\n",
    "\n",
    "\n",
    "#list extend #extend adds as separate indexes\n",
    "a4.extend(a5)\n",
    "print(a4)\n",
    "\n",
    "#delete the list\n",
    "del a4[1] #deleted the 1st index value of a4 list\n",
    "print(a4)\n",
    "\n",
    "#pop the list - temporary delete\n",
    "x = a4.pop(0)\n",
    "print(x)\n",
    "\n",
    "print(a4)\n",
    "\n",
    "#remove from the list\n",
    "a5.extend(a2)\n",
    "print(a2)\n",
    "a2.remove(\"k\")\n",
    "print(a2)"
   ]
  },
  {
   "cell_type": "code",
   "execution_count": 16,
   "metadata": {},
   "outputs": [
    {
     "name": "stdout",
     "output_type": "stream",
     "text": [
      "yes you are learning\n",
      "please try again\n",
      "['python', 'learning', 'kirad', 'dipesh']\n"
     ]
    }
   ],
   "source": [
    "#List realted keywords in Python\n",
    "#keyword 'in' is used to test if an item is in a list\n",
    "\n",
    "lst1 = ['dipesh','kirad','learning','python']\n",
    "\n",
    "if 'learning' in lst1:\n",
    "    print('yes you are learning')\n",
    "else:\n",
    "    print(\"sorry wrong keyword\")\n",
    "    \n",
    "if 'learnin' not in lst1:\n",
    "    print('please try again')\n",
    "    \n",
    "\n",
    "#reverse is reverses the entire list\n",
    "\n",
    "lst1.reverse()\n",
    "print(lst1)\n"
   ]
  },
  {
   "cell_type": "code",
   "execution_count": 34,
   "metadata": {},
   "outputs": [
    {
     "name": "stdout",
     "output_type": "stream",
     "text": [
      "\n",
      " Entered original list is :  [9, 5, 3, 8, 6, 4]\n",
      "\n",
      " Output after using the sorted function to list is :  [3, 4, 5, 6, 8, 9]\n",
      "\n",
      " Output in reverse sorted list is :  [9, 8, 6, 5, 4, 3]\n"
     ]
    }
   ],
   "source": [
    "#List Sorting\n",
    "\n",
    "#create a list with numbers\n",
    "numbers1 = [9,5,3,8,6,4]\n",
    "print(\"\\n Entered original list is : \", numbers1)\n",
    "\n",
    "numbers1.sort()\n",
    "print(\"\\n Output after using the sorted function to list is : \", sorted_a)\n",
    "\n",
    "numbers1.sort(reverse=True)\n",
    "print(\"\\n Output in reverse sorted list is : \", numbers1)\n",
    "\n",
    "#sorted_asc = sorted (numbers1)\n",
    "#print(\"Output after using the sorted function to list is : \", sorted_a)\n",
    "\n",
    "#numbers1.reverse()\n",
    "\n",
    "#print(\"Output in reverse sorted list is : \", numbers1)\n",
    "#original list remain unchanged\n"
   ]
  },
  {
   "cell_type": "code",
   "execution_count": 2,
   "metadata": {},
   "outputs": [
    {
     "name": "stdout",
     "output_type": "stream",
     "text": [
      "Original list:  [1, 2, 3, 4, 5]\n",
      "Original list:  [10]\n",
      "Reference list:  [10]\n"
     ]
    }
   ],
   "source": [
    "#List Having Multiple References\n",
    "lst = [1, 2, 3, 4, 5]\n",
    "print(\"Original list: \", lst)\n",
    "#abc = lst\n",
    "abc = []\n",
    "lst = abc\n",
    "abc.append(10)\n",
    "\n",
    "\n",
    "#print original list - now lst has been changed - mutable\n",
    "print(\"Original list: \", lst)\n",
    "print(\"Reference list: \", abc)"
   ]
  },
  {
   "cell_type": "code",
   "execution_count": 51,
   "metadata": {},
   "outputs": [
    {
     "name": "stdout",
     "output_type": "stream",
     "text": [
      "['dipesh,', 'kirad,', 'is,', 'learning,', 'python']\n",
      "dipesh, kirad, is, learning, python\n",
      "['dipesh,', 'kirad,', 'is,', 'learning,', 'python']\n"
     ]
    }
   ],
   "source": [
    "#String Split to create a list\n",
    "\n",
    "#let's take a string\n",
    "\n",
    "a = \"dipesh, kirad, is, learning, python\"\n",
    "alst = a.split(' ')\n",
    "print(alst)\n",
    "\n",
    "# default split is white-character: space or tab\n",
    "\n",
    "split_a = a.split()\n",
    "print(a)\n",
    "print(split_a)"
   ]
  },
  {
   "cell_type": "code",
   "execution_count": 63,
   "metadata": {},
   "outputs": [
    {
     "name": "stdout",
     "output_type": "stream",
     "text": [
      "[1, 2, 3, 4, 5, 6]\n",
      "4\n",
      "3\n"
     ]
    }
   ],
   "source": [
    "#List Indexing\n",
    "\n",
    "a = [1,2,3,4,5,6]\n",
    "print(a)\n",
    "\n",
    "print(a[3])\n",
    "print(a[-4])"
   ]
  },
  {
   "cell_type": "code",
   "execution_count": 68,
   "metadata": {},
   "outputs": [
    {
     "name": "stdout",
     "output_type": "stream",
     "text": [
      "\n",
      " Value of List a is :  [1, 2, 3, 4, 5, 6, 7, 8, 9, 10]\n",
      "\n",
      " All numbers are :\n",
      "[3, 1, 6, 2, 8]\n",
      "\n",
      " Numbers from index 0 to 4 are :\n",
      "[3, 1, 6, 2]\n"
     ]
    }
   ],
   "source": [
    "#List Slicing\n",
    "\n",
    "a = [1,2,3,4,5,6,7,8,9,10]\n",
    "print(\"\\n Value of List a is : \",a)\n",
    "\n",
    "\n",
    "#print all numbers\n",
    "print(\"\\n All numbers are :\")\n",
    "print(numbers[:]) \n",
    "\n",
    "#print from index 0 to index 3\n",
    "print(\"\\n Numbers from index 0 to 4 are :\")\n",
    "print(numbers[0:4])"
   ]
  },
  {
   "cell_type": "code",
   "execution_count": 75,
   "metadata": {},
   "outputs": [
    {
     "name": "stdout",
     "output_type": "stream",
     "text": [
      "[10, 20, 30, 40, 50, 60, 70, 80]\n",
      "[10, 20, 30, 40, 50, 60, 70, 80]\n",
      "\n",
      " Numbers with step size of 2 are:  [10, 30, 50, 70]\n",
      "[10, 30, 50, 70]\n",
      "[10, 30, 50]\n",
      "[30, 50, 70]\n"
     ]
    }
   ],
   "source": [
    "numbers = [10, 20, 30, 40, 50,60,70,80]\n",
    "print (numbers)\n",
    "print(numbers[:])\n",
    "\n",
    "#print alternate elements in a list\n",
    "print(\"\\n Numbers with step size of 2 are: \", numbers[::2])\n",
    "print(numbers[::2])\n",
    "\n",
    "print(numbers[:-2:2])\n",
    "\n",
    "#: means all element, -2 back from the list index with step size 2\n",
    "\n",
    "\n",
    "#print elemnts start from 0 through rest of the list\n",
    "print(numbers[2::2])"
   ]
  },
  {
   "cell_type": "code",
   "execution_count": 78,
   "metadata": {},
   "outputs": [
    {
     "name": "stdout",
     "output_type": "stream",
     "text": [
      "[1, 2, 3, 4, 'varma', 'naveen', 'murali', 'brahma']\n"
     ]
    }
   ],
   "source": [
    "#list extend using \"+\"\n",
    "lst1 = [1, 2, 3, 4]\n",
    "lst2 = ['varma', 'naveen', 'murali', 'brahma']\n",
    "lst3 = lst1 + lst2\n",
    "\n",
    "print(lst3)"
   ]
  },
  {
   "cell_type": "code",
   "execution_count": 81,
   "metadata": {},
   "outputs": [
    {
     "name": "stdout",
     "output_type": "stream",
     "text": [
      "8\n",
      "4\n"
     ]
    }
   ],
   "source": [
    "#List Count\n",
    "a = [1, 2, 3, 1,1,1,1, 3, 4, 2, 5,8,7,6,4,3,1,2,4,5,6,8,1,1,3,]\n",
    "\n",
    "#frequency of 1 in a list\n",
    "print(a.count(1))\n",
    "\n",
    "#frequency of 3 in a list\n",
    "print(a.count(3))"
   ]
  },
  {
   "cell_type": "code",
   "execution_count": 84,
   "metadata": {},
   "outputs": [
    {
     "name": "stdout",
     "output_type": "stream",
     "text": [
      "H\n",
      "2\n"
     ]
    }
   ],
   "source": [
    "s = ['H','e','l','l','0']\n",
    "s1 = 'Hello'\n",
    "\n",
    "print(s1[0])\n",
    "\n",
    "print(s1.count('l'))"
   ]
  },
  {
   "cell_type": "code",
   "execution_count": 92,
   "metadata": {},
   "outputs": [
    {
     "name": "stdout",
     "output_type": "stream",
     "text": [
      "one\n",
      "two\n",
      "three\n",
      "four\n"
     ]
    }
   ],
   "source": [
    "#List Looping\n",
    "\n",
    "#loop through a list\n",
    "\n",
    "a = ['one', 'two', 'three', 'four']\n",
    "\n",
    "for element in lst:\n",
    "    print(element)"
   ]
  },
  {
   "cell_type": "code",
   "execution_count": 17,
   "metadata": {},
   "outputs": [
    {
     "name": "stdout",
     "output_type": "stream",
     "text": [
      "Please enter a number :5\n",
      "[0, 1, 4, 9, 16]\n"
     ]
    }
   ],
   "source": [
    "#List Comprehensions\n",
    "#List comprehensions provide a concise way to create lists.Common applications are to make new lists\n",
    "#where each element is the result of some operations applied to each member of another sequence or iterable\n",
    "# or to create a subsequence of those elements that satisfy a certain condition\n",
    "\n",
    "# without list comprehension\n",
    "\n",
    "squares = []  # output shall be in list format\n",
    "\n",
    "x = int(input(\"Please enter a number :\")) # asked the value till which the output is required\n",
    "\n",
    "for i in range(x):\n",
    "\n",
    "    squares.append(i**2)   #list append\n",
    "print(squares)"
   ]
  },
  {
   "cell_type": "code",
   "execution_count": 18,
   "metadata": {},
   "outputs": [
    {
     "name": "stdout",
     "output_type": "stream",
     "text": [
      "Please enter a number :5\n",
      "[0, 1, 4, 9, 16]\n"
     ]
    }
   ],
   "source": [
    "#using list comprehension\n",
    "\n",
    "x = int(input(\"Please enter a number :\")) # asked the value till which the output is required\n",
    "\n",
    "squares = [i**2 for i in range (x)]\n",
    "print(squares)"
   ]
  },
  {
   "cell_type": "code",
   "execution_count": 22,
   "metadata": {},
   "outputs": [
    {
     "name": "stdout",
     "output_type": "stream",
     "text": [
      "Please enter a number for x :-1\n",
      "Please enter a number for y :3\n",
      "Please enter a number for z :4\n",
      "[-2, 6, 8]\n",
      "[3, 4]\n",
      "[(0, 0), (1, 1), (2, 4), (3, 9), (4, 16), (5, 25), (6, 36), (7, 49), (8, 64), (9, 81)]\n"
     ]
    }
   ],
   "source": [
    "#example for list comprehension\n",
    "\n",
    "x = int(input(\"Please enter a number for x :\"))\n",
    "y = int(input(\"Please enter a number for y :\"))\n",
    "z = int(input(\"Please enter a number for z :\"))\n",
    "\n",
    "lst = [x,y,z]\n",
    "\n",
    "#create a new list with values doubled\n",
    "new_lst = [i*2 for i in lst]\n",
    "print(new_lst)\n",
    "\n",
    "#filter the list to exclude negative numbers\n",
    "new_lst = [i for i in lst if i >= 0]\n",
    "print(new_lst)\n",
    "\n",
    "\n",
    "#create a list of tuples like (number, square_of_number)\n",
    "new_lst = [(i, i**2) for i in range(10)]\n",
    "print(new_lst)"
   ]
  },
  {
   "cell_type": "code",
   "execution_count": 26,
   "metadata": {},
   "outputs": [
    {
     "name": "stdout",
     "output_type": "stream",
     "text": [
      "[4, 8, 12]\n",
      "[[1, 5, 9], [2, 6, 10], [3, 7, 11], [4, 8, 12]]\n"
     ]
    }
   ],
   "source": [
    "#Nested List Comprehensions\n",
    "\n",
    "#let's suppose we have a matrix\n",
    "\n",
    "matrix = [\n",
    "            [1, 2, 3, 4],\n",
    "            [5, 6, 7, 8],\n",
    "            [9, 10, 11, 12]\n",
    "        ]\n",
    "\n",
    "#transpose of a matrix without list comprehension\n",
    "transposed = []\n",
    "for i in range (4):\n",
    "    lst=[]\n",
    "    for row in matrix:\n",
    "        lst.append(row[i])\n",
    "    transposed.append(lst)\n",
    "\n",
    "print(lst)\n",
    "print(transposed)"
   ]
  },
  {
   "cell_type": "code",
   "execution_count": 27,
   "metadata": {},
   "outputs": [
    {
     "name": "stdout",
     "output_type": "stream",
     "text": [
      "[[1, 5, 9], [2, 6, 10], [3, 7, 11], [4, 8, 12]]\n"
     ]
    }
   ],
   "source": [
    "#with list comprehension\n",
    "transposed = [[row[i] for row in matrix] for i in range(4)]\n",
    "print(transposed)"
   ]
  },
  {
   "cell_type": "code",
   "execution_count": 32,
   "metadata": {},
   "outputs": [
    {
     "name": "stdout",
     "output_type": "stream",
     "text": [
      "(1, 2, 3)\n",
      "(1, 'raju', 28, 'abc')\n",
      "(1, (2, 3, 4), [1, 'raju', 28, 'abc'])\n"
     ]
    },
    {
     "data": {
      "text/plain": [
       "3"
      ]
     },
     "execution_count": 32,
     "metadata": {},
     "output_type": "execute_result"
    }
   ],
   "source": [
    "#Tuple creation\n",
    "#empty tuple\n",
    "t = ()\n",
    "\n",
    "#tuple having integers\n",
    "t = (1, 2, 3)\n",
    "print(t)\n",
    "\n",
    "#tuple with mixed datatypes\n",
    "t = (1, 'raju', 28, 'abc')\n",
    "print(t)\n",
    "\n",
    "#nested tuple\n",
    "t = (1, (2, 3, 4), [1, 'raju', 28, 'abc'])\n",
    "print(t)\n",
    "t[0]\n",
    "t[1][1]\n",
    "\n"
   ]
  },
  {
   "cell_type": "code",
   "execution_count": 36,
   "metadata": {},
   "outputs": [
    {
     "data": {
      "text/plain": [
       "str"
      ]
     },
     "execution_count": 36,
     "metadata": {},
     "output_type": "execute_result"
    }
   ],
   "source": [
    "#only parenthesis is not enough\n",
    "t = ('nilesh')\n",
    "type(t)\n",
    "\n",
    "#this will print the type as string... if you enter a comma in bracket than it will be considered as tuple\n",
    "\n",
    "#m= ('dipesh',)\n",
    "#type(m)"
   ]
  },
  {
   "cell_type": "code",
   "execution_count": 35,
   "metadata": {},
   "outputs": [
    {
     "data": {
      "text/plain": [
       "tuple"
      ]
     },
     "execution_count": 35,
     "metadata": {},
     "output_type": "execute_result"
    }
   ],
   "source": [
    "#need a comma at the end\n",
    "t = ('nilesh',)\n",
    "type(t)"
   ]
  },
  {
   "cell_type": "code",
   "execution_count": 39,
   "metadata": {},
   "outputs": [
    {
     "name": "stdout",
     "output_type": "stream",
     "text": [
      "<class 'tuple'>\n",
      "('nilesh',)\n"
     ]
    }
   ],
   "source": [
    "#parenthesis is optional\n",
    "t = \"nilesh\" ,\n",
    "print(type(t))\n",
    "\n",
    "print(t)"
   ]
  },
  {
   "cell_type": "code",
   "execution_count": 40,
   "metadata": {},
   "outputs": [
    {
     "name": "stdout",
     "output_type": "stream",
     "text": [
      "simmi\n"
     ]
    }
   ],
   "source": [
    "#Accessing Elements in Tuple\n",
    "\n",
    "t = ('nilesh', 'simmi', 'lakshya', 'ana', 'amir')\n",
    "\n",
    "print(t[1])"
   ]
  },
  {
   "cell_type": "code",
   "execution_count": 41,
   "metadata": {},
   "outputs": [
    {
     "name": "stdout",
     "output_type": "stream",
     "text": [
      "amir\n"
     ]
    }
   ],
   "source": [
    "#negative index\n",
    "print(t[-1]) #print last element in a tuple"
   ]
  },
  {
   "cell_type": "code",
   "execution_count": 42,
   "metadata": {},
   "outputs": [
    {
     "name": "stdout",
     "output_type": "stream",
     "text": [
      "('nilesh', 'raj', 'adi')\n"
     ]
    }
   ],
   "source": [
    "#nested tuple\n",
    "t = ('ABC', ('nilesh', 'raj', 'adi'))\n",
    "\n",
    "print(t[1])"
   ]
  },
  {
   "cell_type": "code",
   "execution_count": 43,
   "metadata": {},
   "outputs": [
    {
     "name": "stdout",
     "output_type": "stream",
     "text": [
      "adi\n"
     ]
    }
   ],
   "source": [
    "print(t[1][2])"
   ]
  },
  {
   "cell_type": "code",
   "execution_count": 44,
   "metadata": {},
   "outputs": [
    {
     "name": "stdout",
     "output_type": "stream",
     "text": [
      "(2, 3, 4)\n",
      "(1, 2, 3, 4)\n",
      "(1, 2, 3, 4, 5, 6)\n"
     ]
    }
   ],
   "source": [
    "#Slicing\n",
    "t = (1, 2, 3, 4, 5, 6)\n",
    "\n",
    "print(t[1:4])\n",
    "\n",
    "#print elements from starting to 2nd last elements\n",
    "print(t[:-2])\n",
    "\n",
    "#print elements from starting to end\n",
    "print(t[:])"
   ]
  },
  {
   "cell_type": "code",
   "execution_count": 48,
   "metadata": {},
   "outputs": [
    {
     "ename": "TypeError",
     "evalue": "'tuple' object does not support item assignment",
     "output_type": "error",
     "traceback": [
      "\u001b[1;31m---------------------------------------------------------------------------\u001b[0m",
      "\u001b[1;31mTypeError\u001b[0m                                 Traceback (most recent call last)",
      "\u001b[1;32m<ipython-input-48-e57eefa37c2a>\u001b[0m in \u001b[0;36m<module>\u001b[1;34m\u001b[0m\n\u001b[0;32m      4\u001b[0m \u001b[0mt\u001b[0m \u001b[1;33m=\u001b[0m \u001b[1;33m(\u001b[0m\u001b[1;36m1\u001b[0m\u001b[1;33m,\u001b[0m \u001b[1;36m2\u001b[0m\u001b[1;33m,\u001b[0m \u001b[1;36m3\u001b[0m\u001b[1;33m,\u001b[0m \u001b[1;36m4\u001b[0m\u001b[1;33m,\u001b[0m \u001b[1;33m[\u001b[0m\u001b[1;36m5\u001b[0m\u001b[1;33m,\u001b[0m \u001b[1;36m6\u001b[0m\u001b[1;33m,\u001b[0m \u001b[1;36m7\u001b[0m\u001b[1;33m]\u001b[0m\u001b[1;33m)\u001b[0m\u001b[1;33m\u001b[0m\u001b[1;33m\u001b[0m\u001b[0m\n\u001b[0;32m      5\u001b[0m \u001b[1;33m\u001b[0m\u001b[0m\n\u001b[1;32m----> 6\u001b[1;33m \u001b[0mt\u001b[0m\u001b[1;33m[\u001b[0m\u001b[1;36m2\u001b[0m\u001b[1;33m]\u001b[0m \u001b[1;33m=\u001b[0m \u001b[1;34m'x'\u001b[0m \u001b[1;31m#will get TypeError\u001b[0m\u001b[1;33m\u001b[0m\u001b[1;33m\u001b[0m\u001b[0m\n\u001b[0m\u001b[0;32m      7\u001b[0m \u001b[1;33m\u001b[0m\u001b[0m\n\u001b[0;32m      8\u001b[0m \u001b[1;31m#unlike lists, tuples are immutable\u001b[0m\u001b[1;33m\u001b[0m\u001b[1;33m\u001b[0m\u001b[1;33m\u001b[0m\u001b[0m\n",
      "\u001b[1;31mTypeError\u001b[0m: 'tuple' object does not support item assignment"
     ]
    }
   ],
   "source": [
    "#Changing a Tuple\n",
    "\n",
    "#creating tuple\n",
    "t = (1, 2, 3, 4, [5, 6, 7])\n",
    "\n",
    "t[2] = 'x' #will get TypeError\n",
    "\n",
    "#unlike lists, tuples are immutable\n",
    "\n",
    "#This means that elements of a tuple cannot be changed once it has been assigned. \n",
    "#But, if the element is itself a mutable datatype like list, its nested items can be changed.\n",
    "#as shown in below example wherein 4th index which is list in tuple t is being replaced by Nilesh (as it was a list - mutable)\n"
   ]
  },
  {
   "cell_type": "code",
   "execution_count": 49,
   "metadata": {},
   "outputs": [
    {
     "name": "stdout",
     "output_type": "stream",
     "text": [
      "(1, 2, 3, 4, [5, 'nilesh', 7])\n"
     ]
    }
   ],
   "source": [
    "t[4][1] = 'nilesh'\n",
    "print(t)"
   ]
  },
  {
   "cell_type": "code",
   "execution_count": 50,
   "metadata": {},
   "outputs": [
    {
     "name": "stdout",
     "output_type": "stream",
     "text": [
      "(1, 2, 3, 4, 5, 6)\n"
     ]
    }
   ],
   "source": [
    "#concatinating tuples\n",
    "\n",
    "t = (1, 2, 3) + (4, 5, 6)\n",
    "\n",
    "print(t)"
   ]
  },
  {
   "cell_type": "code",
   "execution_count": 52,
   "metadata": {},
   "outputs": [
    {
     "name": "stdout",
     "output_type": "stream",
     "text": [
      "('nilesh', 'nilesh', 'nilesh', 'nilesh')\n",
      "4\n"
     ]
    },
    {
     "data": {
      "text/plain": [
       "tuple"
      ]
     },
     "execution_count": 52,
     "metadata": {},
     "output_type": "execute_result"
    }
   ],
   "source": [
    "#repeat the elements in a tuple for a given number of times using the * operator.\n",
    "t = (('nilesh', ) * 4)\n",
    "print(t)\n",
    "print(len(t))\n",
    "type(t)"
   ]
  },
  {
   "cell_type": "code",
   "execution_count": 53,
   "metadata": {},
   "outputs": [],
   "source": [
    "#Tuple Deletion\n",
    "#we cannot change the elements in a tuple. \n",
    "# That also means we cannot delete or remove items from a tuple.\n",
    "\n",
    "#delete entire tuple using del keyword\n",
    "t = (1, 2, 3, 4, 5, 6,(8,9))\n",
    "\n",
    "#delete entire tuple\n",
    "del t"
   ]
  },
  {
   "cell_type": "code",
   "execution_count": 54,
   "metadata": {},
   "outputs": [
    {
     "data": {
      "text/plain": [
       "3"
      ]
     },
     "execution_count": 54,
     "metadata": {},
     "output_type": "execute_result"
    }
   ],
   "source": [
    "#Tuple Count\n",
    "t = (1, 2, 3, 1, 3, 3, 4, 1)\n",
    "\n",
    "#get the frequency of particular element appears in a tuple\n",
    "t.count(1)"
   ]
  },
  {
   "cell_type": "code",
   "execution_count": 58,
   "metadata": {},
   "outputs": [
    {
     "name": "stdout",
     "output_type": "stream",
     "text": [
      "2\n"
     ]
    }
   ],
   "source": [
    "#Tuple Index\n",
    "\n",
    "t = (1, 2, 3, 1, 3, 3, 4, 1)\n",
    "\n",
    "print(t.index(3)) #return index of the first element is equal to 3\n",
    "\n",
    "#print index of the 1\n"
   ]
  },
  {
   "cell_type": "code",
   "execution_count": 60,
   "metadata": {},
   "outputs": [
    {
     "name": "stdout",
     "output_type": "stream",
     "text": [
      "True\n"
     ]
    }
   ],
   "source": [
    "#Tuple Memebership\n",
    "#test if an item exists in a tuple or not, using the keyword in.\n",
    "\n",
    "t = (1,2,3,4,5,6,7)\n",
    "print(9 not in t)"
   ]
  },
  {
   "cell_type": "code",
   "execution_count": 61,
   "metadata": {},
   "outputs": [
    {
     "name": "stdout",
     "output_type": "stream",
     "text": [
      "True\n"
     ]
    }
   ],
   "source": [
    "print (7 in t)"
   ]
  },
  {
   "cell_type": "code",
   "execution_count": 62,
   "metadata": {},
   "outputs": [
    {
     "name": "stdout",
     "output_type": "stream",
     "text": [
      "6\n"
     ]
    }
   ],
   "source": [
    "#Built in Functions\n",
    "\n",
    "t = (1, 2, 3, 4, 5, 6)\n",
    "print(len(t))"
   ]
  },
  {
   "cell_type": "code",
   "execution_count": 65,
   "metadata": {},
   "outputs": [
    {
     "name": "stdout",
     "output_type": "stream",
     "text": [
      "[1, 2, 3, 4, 5]\n"
     ]
    },
    {
     "data": {
      "text/plain": [
       "list"
      ]
     },
     "execution_count": 65,
     "metadata": {},
     "output_type": "execute_result"
    }
   ],
   "source": [
    "#Tuple Sort\n",
    "t = (4, 5, 1, 2, 3)\n",
    "\n",
    "new_t = sorted(t)\n",
    "print(new_t)\n",
    "#Take elements in the tuple and return a new sorted list \n",
    "#(does not sort the tuple itself).\n",
    "type(new_t)"
   ]
  },
  {
   "cell_type": "code",
   "execution_count": 66,
   "metadata": {},
   "outputs": [
    {
     "name": "stdout",
     "output_type": "stream",
     "text": [
      "9\n"
     ]
    }
   ],
   "source": [
    "#get the largest element in a tuple\n",
    "t = (2, 5, 1, 6, 9)\n",
    "\n",
    "print(max(t))"
   ]
  },
  {
   "cell_type": "code",
   "execution_count": 67,
   "metadata": {},
   "outputs": [
    {
     "name": "stdout",
     "output_type": "stream",
     "text": [
      "1\n"
     ]
    }
   ],
   "source": [
    "#get the smallest element in a tuple\n",
    "print(min(t))"
   ]
  },
  {
   "cell_type": "code",
   "execution_count": 68,
   "metadata": {},
   "outputs": [
    {
     "name": "stdout",
     "output_type": "stream",
     "text": [
      "23\n"
     ]
    }
   ],
   "source": [
    "#get sum of elments in the tuple\n",
    "print(sum(t))"
   ]
  },
  {
   "cell_type": "code",
   "execution_count": 75,
   "metadata": {},
   "outputs": [
    {
     "name": "stdout",
     "output_type": "stream",
     "text": [
      "{1, 2, 3}\n",
      "<class 'list'>\n",
      "<class 'set'>\n"
     ]
    }
   ],
   "source": [
    "#Sets\n",
    "\n",
    "#-> A set is an unordered collection of items. Every element is unique (no duplicates).\n",
    "\n",
    "#-> The set itself is mutable. We can add or remove items from it.\n",
    "\n",
    "#-> Sets can be used to perform mathematical set operations like union, intersection, symmetric difference etc.\n",
    "\n",
    "# Set Creation\n",
    "\n",
    "#set of integers\n",
    "\n",
    "s = {1, 2, 3}\n",
    "print(s)\n",
    "\n",
    "type(s)\n",
    "t = list(s)\n",
    "\n",
    "print(type(t))\n",
    "\n",
    "#print type of s \n",
    "print(type(s))"
   ]
  },
  {
   "cell_type": "code",
   "execution_count": 76,
   "metadata": {},
   "outputs": [
    {
     "name": "stdout",
     "output_type": "stream",
     "text": [
      "{1, 2, 3, 4}\n"
     ]
    }
   ],
   "source": [
    "#set doesn't allow duplicates. They store only one instance.\n",
    "s = {1, 2, 3, 1, 4}\n",
    "print(s)"
   ]
  },
  {
   "cell_type": "code",
   "execution_count": 77,
   "metadata": {},
   "outputs": [
    {
     "name": "stdout",
     "output_type": "stream",
     "text": [
      "{1, 2, 3}\n"
     ]
    }
   ],
   "source": [
    "#we can make set from a list\n",
    "s = set([1, 2, 3, 1])\n",
    "print(s)"
   ]
  },
  {
   "cell_type": "code",
   "execution_count": 78,
   "metadata": {},
   "outputs": [
    {
     "name": "stdout",
     "output_type": "stream",
     "text": [
      "<class 'set'>\n"
     ]
    }
   ],
   "source": [
    "#initialize a set  with set() method\n",
    "s = set()\n",
    "\n",
    "print(type(s))"
   ]
  },
  {
   "cell_type": "code",
   "execution_count": 79,
   "metadata": {},
   "outputs": [
    {
     "name": "stdout",
     "output_type": "stream",
     "text": [
      "{1, 3}\n"
     ]
    }
   ],
   "source": [
    "#Add element to a Set\n",
    "\n",
    "#we can add single element using add() method and \n",
    "#add multiple elements using update() method\n",
    "s = {1, 3}\n",
    "\n",
    "#set object doesn't support indexing\n",
    "print(s) #will get TypeError"
   ]
  },
  {
   "cell_type": "code",
   "execution_count": 91,
   "metadata": {},
   "outputs": [
    {
     "name": "stdout",
     "output_type": "stream",
     "text": [
      "{1, 3, 5}\n",
      "{1, 2, 3, 5, 6, 7}\n",
      "{1, 2, 3, 5, 6, 7, 8, 9, 10}\n",
      "<class 'set'>\n"
     ]
    }
   ],
   "source": [
    "#add one element\n",
    "s = {1, 3}\n",
    "s.add(5)\n",
    "print(s)\n",
    "\n",
    "#add multiple elements\n",
    "s.update([7, 6, 2])\n",
    "print(s)\n",
    "\n",
    "#add list and set\n",
    "s.update([8, 9], {10, 2, 3})\n",
    "print(s)\n",
    "print(type(s))"
   ]
  },
  {
   "cell_type": "code",
   "execution_count": 92,
   "metadata": {},
   "outputs": [
    {
     "name": "stdout",
     "output_type": "stream",
     "text": [
      "{1, 2, 3, 4, 5}\n",
      "<class 'set'>\n",
      "{1, 2, 3, 5}\n"
     ]
    }
   ],
   "source": [
    "#Remove elements from a Set\n",
    "\n",
    "#A particular item can be removed from set using methods, \n",
    "#discard() and remove().\n",
    "\n",
    "s = {1, 2, 3, 5, 4}\n",
    "\n",
    "print(s)\n",
    "print(type(s))\n",
    "\n",
    "s.discard(4)    #4 is removed from set s\n",
    "\n",
    "print(s)"
   ]
  },
  {
   "cell_type": "code",
   "execution_count": 93,
   "metadata": {},
   "outputs": [
    {
     "name": "stdout",
     "output_type": "stream",
     "text": [
      "{1, 2, 5}\n"
     ]
    }
   ],
   "source": [
    "#remove an element \n",
    "s.remove(3)\n",
    "\n",
    "print(s)"
   ]
  },
  {
   "cell_type": "code",
   "execution_count": 94,
   "metadata": {},
   "outputs": [
    {
     "ename": "KeyError",
     "evalue": "7",
     "output_type": "error",
     "traceback": [
      "\u001b[1;31m---------------------------------------------------------------------------\u001b[0m",
      "\u001b[1;31mKeyError\u001b[0m                                  Traceback (most recent call last)",
      "\u001b[1;32m<ipython-input-94-fcd391652dec>\u001b[0m in \u001b[0;36m<module>\u001b[1;34m\u001b[0m\n\u001b[0;32m      1\u001b[0m \u001b[1;31m#remove an element not present in a set s\u001b[0m\u001b[1;33m\u001b[0m\u001b[1;33m\u001b[0m\u001b[1;33m\u001b[0m\u001b[0m\n\u001b[1;32m----> 2\u001b[1;33m \u001b[0ms\u001b[0m\u001b[1;33m.\u001b[0m\u001b[0mremove\u001b[0m\u001b[1;33m(\u001b[0m\u001b[1;36m7\u001b[0m\u001b[1;33m)\u001b[0m \u001b[1;31m# will get KeyError\u001b[0m\u001b[1;33m\u001b[0m\u001b[1;33m\u001b[0m\u001b[0m\n\u001b[0m",
      "\u001b[1;31mKeyError\u001b[0m: 7"
     ]
    }
   ],
   "source": [
    "#remove an element not present in a set s\n",
    "s.remove(7) # will get KeyError"
   ]
  },
  {
   "cell_type": "code",
   "execution_count": 95,
   "metadata": {},
   "outputs": [
    {
     "name": "stdout",
     "output_type": "stream",
     "text": [
      "{1, 2, 5}\n"
     ]
    }
   ],
   "source": [
    "#discard an element not present in a set s\n",
    "s.discard(7)\n",
    "print(s)"
   ]
  },
  {
   "cell_type": "code",
   "execution_count": 2,
   "metadata": {},
   "outputs": [
    {
     "name": "stdout",
     "output_type": "stream",
     "text": [
      "{1, 2, 3, 4, 5, 6, 10, 12, 18, 19, -1}\n"
     ]
    }
   ],
   "source": [
    "#we can remove item using pop() method\n",
    "\n",
    "s = {1, 2, 3, 5, 4, 10, 12, 18, 19, -1,0 , 5, 6}\n",
    "\n",
    "s.pop() #if it's +ve, remove minium element. otherwise random\n",
    "print(s)"
   ]
  },
  {
   "cell_type": "code",
   "execution_count": 5,
   "metadata": {},
   "outputs": [
    {
     "name": "stdout",
     "output_type": "stream",
     "text": [
      "{4, 5, 6, 10, 12, 18, 19, -1}\n"
     ]
    }
   ],
   "source": [
    "s.pop() #again operation will remove the minimum number value which would be postive\n",
    "print(s)"
   ]
  },
  {
   "cell_type": "code",
   "execution_count": 8,
   "metadata": {},
   "outputs": [
    {
     "name": "stdout",
     "output_type": "stream",
     "text": [
      "set()\n"
     ]
    },
    {
     "data": {
      "text/plain": [
       "set"
      ]
     },
     "execution_count": 8,
     "metadata": {},
     "output_type": "execute_result"
    }
   ],
   "source": [
    "s = {1, 5, 2, 3, 6}\n",
    "\n",
    "s.clear()   #remove all items in set using clear() method\n",
    "\n",
    "print(s)\n",
    "type(s)"
   ]
  },
  {
   "cell_type": "code",
   "execution_count": 9,
   "metadata": {},
   "outputs": [
    {
     "name": "stdout",
     "output_type": "stream",
     "text": [
      "{1, 2, 3, 4, 5, 6, 7}\n"
     ]
    }
   ],
   "source": [
    "#Python Set Operations\n",
    "set1 = {1, 2, 3, 4, 5}\n",
    "set2 = {3, 4, 5, 6, 7}\n",
    "\n",
    "#union of 2 sets using | operator\n",
    "\n",
    "m = set1| set2\n",
    "print(m)"
   ]
  },
  {
   "cell_type": "code",
   "execution_count": 12,
   "metadata": {},
   "outputs": [
    {
     "name": "stdout",
     "output_type": "stream",
     "text": [
      "{1, 2, 3, 4, 5, 6}\n",
      "{3}\n"
     ]
    }
   ],
   "source": [
    "#another way of getting union of 2 sets\n",
    "\n",
    "set1 = {1, 2, 3}\n",
    "set2 = {4, 5, 6}\n",
    "set3 = {3,5,6,7,}\n",
    "print(set1.union(set2))\n",
    "print(set1.intersection(set3))"
   ]
  },
  {
   "cell_type": "code",
   "execution_count": 14,
   "metadata": {},
   "outputs": [
    {
     "name": "stdout",
     "output_type": "stream",
     "text": [
      "{4, 5, 6, 7}\n"
     ]
    }
   ],
   "source": [
    "#intersection of 2 sets using & operator\n",
    "set1 = {1, 2, 3,4,5,6,7}\n",
    "set2 = {4, 5, 6,7,8,9,10}\n",
    "print(set1 & set2)"
   ]
  },
  {
   "cell_type": "code",
   "execution_count": 15,
   "metadata": {},
   "outputs": [
    {
     "name": "stdout",
     "output_type": "stream",
     "text": [
      "{4, 5, 6, 7}\n"
     ]
    }
   ],
   "source": [
    "#use intersection function \n",
    "print(set1.intersection(set2))"
   ]
  },
  {
   "cell_type": "code",
   "execution_count": 18,
   "metadata": {},
   "outputs": [
    {
     "name": "stdout",
     "output_type": "stream",
     "text": [
      "{1, 2, 3}\n",
      "{8, 9, 10}\n"
     ]
    }
   ],
   "source": [
    "#set Difference: set of elements that are only in set1 but not in set2  & vice-a-versa\n",
    "\n",
    "print(set1 - set2)\n",
    "print(set2 - set1)"
   ]
  },
  {
   "cell_type": "code",
   "execution_count": 20,
   "metadata": {},
   "outputs": [
    {
     "name": "stdout",
     "output_type": "stream",
     "text": [
      "{1, 2, 3}\n",
      "{8, 9, 10}\n"
     ]
    }
   ],
   "source": [
    "#use differnce function \n",
    "print(set1.difference(set2))\n",
    "print(set2.difference(set1))"
   ]
  },
  {
   "cell_type": "code",
   "execution_count": 23,
   "metadata": {},
   "outputs": [
    {
     "name": "stdout",
     "output_type": "stream",
     "text": [
      "{1, 2, 3, 6, 7, 8}\n"
     ]
    }
   ],
   "source": [
    "\"\"\"symmetric difference: set of elements in both set1 and set2 \n",
    "#except those that are common in both.\"\"\"\n",
    "\n",
    "#use ^ operator\n",
    "set1 = {1,2,3,4,5}\n",
    "set2 = {4,5,6,7,8}\n",
    "print(set1^set2)"
   ]
  },
  {
   "cell_type": "code",
   "execution_count": 24,
   "metadata": {},
   "outputs": [
    {
     "name": "stdout",
     "output_type": "stream",
     "text": [
      "{1, 2, 3, 6, 7, 8}\n"
     ]
    }
   ],
   "source": [
    "#use symmetric_difference function\n",
    "print(set1.symmetric_difference(set2))"
   ]
  },
  {
   "cell_type": "code",
   "execution_count": 27,
   "metadata": {},
   "outputs": [
    {
     "name": "stdout",
     "output_type": "stream",
     "text": [
      "set 'x' is subset of 'y' ? True\n",
      "set 'y' is subset of 'x' ? False\n"
     ]
    }
   ],
   "source": [
    "#find issubset()\n",
    "x = {\"a\",\"b\",\"c\",\"d\",\"e\"}\n",
    "y = {\"c\",\"d\",\"m\",\"a\",\"b\",'e'}\n",
    "\n",
    "print(\"set 'x' is subset of 'y' ?\", x.issubset(y)) #check x is subset of y\n",
    "\n",
    "#check y is subset of x\n",
    "print(\"set 'y' is subset of 'x' ?\", y.issubset(x))"
   ]
  },
  {
   "cell_type": "code",
   "execution_count": 33,
   "metadata": {},
   "outputs": [
    {
     "ename": "AttributeError",
     "evalue": "'frozenset' object has no attribute 'add'",
     "output_type": "error",
     "traceback": [
      "\u001b[1;31m---------------------------------------------------------------------------\u001b[0m",
      "\u001b[1;31mAttributeError\u001b[0m                            Traceback (most recent call last)",
      "\u001b[1;32m<ipython-input-33-6f83527bd73b>\u001b[0m in \u001b[0;36m<module>\u001b[1;34m\u001b[0m\n\u001b[0;32m     15\u001b[0m \u001b[0mset2\u001b[0m \u001b[1;33m=\u001b[0m \u001b[0mfrozenset\u001b[0m\u001b[1;33m(\u001b[0m\u001b[1;33m[\u001b[0m\u001b[1;36m6\u001b[0m\u001b[1;33m,\u001b[0m\u001b[1;36m7\u001b[0m\u001b[1;33m,\u001b[0m\u001b[1;36m8\u001b[0m\u001b[1;33m,\u001b[0m\u001b[1;36m9\u001b[0m\u001b[1;33m,\u001b[0m\u001b[1;36m10\u001b[0m\u001b[1;33m]\u001b[0m\u001b[1;33m)\u001b[0m\u001b[1;33m\u001b[0m\u001b[1;33m\u001b[0m\u001b[0m\n\u001b[0;32m     16\u001b[0m \u001b[1;33m\u001b[0m\u001b[0m\n\u001b[1;32m---> 17\u001b[1;33m \u001b[0mset1\u001b[0m\u001b[1;33m.\u001b[0m\u001b[0madd\u001b[0m\u001b[1;33m(\u001b[0m\u001b[1;36m6\u001b[0m\u001b[1;33m)\u001b[0m\u001b[1;33m\u001b[0m\u001b[1;33m\u001b[0m\u001b[0m\n\u001b[0m",
      "\u001b[1;31mAttributeError\u001b[0m: 'frozenset' object has no attribute 'add'"
     ]
    }
   ],
   "source": [
    "#Frozen Sets\n",
    "#Frozen sets has the characteristics of sets,\n",
    "   #but can't be changed once it's assigned. While tuple are immutable lists, frozen sets are immutable sets\n",
    "\n",
    "#Frozensets can be created using the function frozenset()\n",
    "\n",
    "#Sets being mutable are unhashable, so they can't be used as dictionary keys.\n",
    "   #On the other hand, frozensets are hashable and can be used as keys to a dictionary.\n",
    "\n",
    "#This datatype supports methods like copy(), difference(), intersection(),\n",
    "   #isdisjoint(), issubset(), issuperset(), symmetric_difference() and union().\n",
    "    #Being immutable it does not have method that add or remove elements.\n",
    "\n",
    "set1 = frozenset([1,2,3,4,5])\n",
    "set2 = frozenset([6,7,8,9,10])\n",
    "\n",
    "set1.add(6)"
   ]
  },
  {
   "cell_type": "code",
   "execution_count": 34,
   "metadata": {},
   "outputs": [
    {
     "ename": "TypeError",
     "evalue": "'frozenset' object is not subscriptable",
     "output_type": "error",
     "traceback": [
      "\u001b[1;31m---------------------------------------------------------------------------\u001b[0m",
      "\u001b[1;31mTypeError\u001b[0m                                 Traceback (most recent call last)",
      "\u001b[1;32m<ipython-input-34-5c8e05737e66>\u001b[0m in \u001b[0;36m<module>\u001b[1;34m\u001b[0m\n\u001b[1;32m----> 1\u001b[1;33m \u001b[0mprint\u001b[0m\u001b[1;33m(\u001b[0m\u001b[0mset1\u001b[0m\u001b[1;33m[\u001b[0m\u001b[1;36m1\u001b[0m\u001b[1;33m]\u001b[0m\u001b[1;33m)\u001b[0m \u001b[1;31m# frozen set doesn't support indexing\u001b[0m\u001b[1;33m\u001b[0m\u001b[1;33m\u001b[0m\u001b[0m\n\u001b[0m",
      "\u001b[1;31mTypeError\u001b[0m: 'frozenset' object is not subscriptable"
     ]
    }
   ],
   "source": [
    "print(set1[1]) # frozen set doesn't support indexing"
   ]
  },
  {
   "cell_type": "code",
   "execution_count": 35,
   "metadata": {},
   "outputs": [
    {
     "name": "stdout",
     "output_type": "stream",
     "text": [
      "frozenset({1, 2, 3, 4, 5, 6, 7, 8, 9, 10})\n"
     ]
    }
   ],
   "source": [
    "print(set1 | set2) #union of 2 sets"
   ]
  },
  {
   "cell_type": "code",
   "execution_count": 38,
   "metadata": {},
   "outputs": [
    {
     "name": "stdout",
     "output_type": "stream",
     "text": [
      "frozenset()\n",
      "frozenset()\n"
     ]
    }
   ],
   "source": [
    "#intersection of two sets\n",
    "print(set1 & set2)\n",
    "\n",
    "#or \n",
    "print(set1.intersection(set2))"
   ]
  },
  {
   "cell_type": "code",
   "execution_count": 43,
   "metadata": {},
   "outputs": [
    {
     "ename": "TypeError",
     "evalue": "unsupported operand type(s) for ^: 'list' and 'list'",
     "output_type": "error",
     "traceback": [
      "\u001b[1;31m---------------------------------------------------------------------------\u001b[0m",
      "\u001b[1;31mTypeError\u001b[0m                                 Traceback (most recent call last)",
      "\u001b[1;32m<ipython-input-43-81643a393ea5>\u001b[0m in \u001b[0;36m<module>\u001b[1;34m\u001b[0m\n\u001b[0;32m      3\u001b[0m \u001b[1;33m\u001b[0m\u001b[0m\n\u001b[0;32m      4\u001b[0m \u001b[1;31m#symmetric difference\u001b[0m\u001b[1;33m\u001b[0m\u001b[1;33m\u001b[0m\u001b[1;33m\u001b[0m\u001b[0m\n\u001b[1;32m----> 5\u001b[1;33m \u001b[0mprint\u001b[0m\u001b[1;33m(\u001b[0m\u001b[0mset1\u001b[0m \u001b[1;33m^\u001b[0m \u001b[0mset2\u001b[0m\u001b[1;33m)\u001b[0m\u001b[1;33m\u001b[0m\u001b[1;33m\u001b[0m\u001b[0m\n\u001b[0m\u001b[0;32m      6\u001b[0m \u001b[1;33m\u001b[0m\u001b[0m\n\u001b[0;32m      7\u001b[0m \u001b[1;31m#or\u001b[0m\u001b[1;33m\u001b[0m\u001b[1;33m\u001b[0m\u001b[1;33m\u001b[0m\u001b[0m\n",
      "\u001b[1;31mTypeError\u001b[0m: unsupported operand type(s) for ^: 'list' and 'list'"
     ]
    }
   ],
   "source": [
    "set1 = ([1,2,3,4,5,6])\n",
    "set2 = ([4,5,6,7,8,9])\n",
    "\n",
    "#symmetric difference\n",
    "print(set1 ^ set2)\n",
    "\n",
    "#or\n",
    "print(set1.symmetric_difference(set2))"
   ]
  },
  {
   "cell_type": "code",
   "execution_count": 45,
   "metadata": {},
   "outputs": [
    {
     "name": "stdout",
     "output_type": "stream",
     "text": [
      "<class 'dict'>\n",
      "{1: 'abc', 2: 'xyz'}\n",
      "{'name': 'satish', 1: ['abc', 'xyz']}\n",
      "{1: 'abc', 2: 'xyz'}\n"
     ]
    },
    {
     "data": {
      "text/plain": [
       "dict"
      ]
     },
     "execution_count": 45,
     "metadata": {},
     "output_type": "execute_result"
    }
   ],
   "source": [
    "#Dictionary\n",
    "#Python dictionary is an unordered collection of items. While other compound data types have only value as an element,\n",
    "  #a dictionary has a key: value pair.\n",
    "    \n",
    "#Dict Creation\n",
    "\n",
    "#empty dictionary\n",
    "my_dict = {}\n",
    "print(type(my_dict))\n",
    "\n",
    "#dictionary with integer keys\n",
    "my_dict = {1: 'abc', 2: 'xyz'}\n",
    "print(my_dict)\n",
    "\n",
    "#dictionary with mixed keys\n",
    "my_dict = {'name': 'satish', 1: ['abc', 'xyz']}\n",
    "print(my_dict)\n",
    "\n",
    "\n",
    "#create empty dictionary using dict()\n",
    "my_dict = dict()\n",
    "\n",
    "my_dict = dict([(1, 'abc'), (2, 'xyz')])    #create a dict with list of tuples\n",
    "print(my_dict)\n",
    "type(my_dict)\n"
   ]
  },
  {
   "cell_type": "code",
   "execution_count": 70,
   "metadata": {},
   "outputs": [
    {
     "name": "stdout",
     "output_type": "stream",
     "text": [
      "{'name': 'dipesh', 'surname': 'kirad', 'age': 27, 'occupation': 'service'}\n",
      "Changed name is :  saravjeet\n"
     ]
    }
   ],
   "source": [
    "#Dict Access\n",
    "\n",
    "my_dict = {'name':'dipesh', 'surname':'kirad','age': 27, 'occupation':'service'}\n",
    "print(my_dict)\n",
    "\n",
    "my_dict['name'] = 'saravjeet'\n",
    "#we are changing the name in dictionary\n",
    "\n",
    "print(\"Changed name is : \",my_dict['name'])"
   ]
  },
  {
   "cell_type": "code",
   "execution_count": 71,
   "metadata": {},
   "outputs": [
    {
     "ename": "KeyError",
     "evalue": "'degree'",
     "output_type": "error",
     "traceback": [
      "\u001b[1;31m---------------------------------------------------------------------------\u001b[0m",
      "\u001b[1;31mKeyError\u001b[0m                                  Traceback (most recent call last)",
      "\u001b[1;32m<ipython-input-71-ce5855003f0d>\u001b[0m in \u001b[0;36m<module>\u001b[1;34m\u001b[0m\n\u001b[0;32m      1\u001b[0m \u001b[1;31m#if key is not present it gives KeyError\u001b[0m\u001b[1;33m\u001b[0m\u001b[1;33m\u001b[0m\u001b[1;33m\u001b[0m\u001b[0m\n\u001b[1;32m----> 2\u001b[1;33m \u001b[0mprint\u001b[0m\u001b[1;33m(\u001b[0m\u001b[0mmy_dict\u001b[0m\u001b[1;33m[\u001b[0m\u001b[1;34m'degree'\u001b[0m\u001b[1;33m]\u001b[0m\u001b[1;33m)\u001b[0m\u001b[1;33m\u001b[0m\u001b[1;33m\u001b[0m\u001b[0m\n\u001b[0m\u001b[0;32m      3\u001b[0m \u001b[1;33m\u001b[0m\u001b[0m\n\u001b[0;32m      4\u001b[0m \u001b[1;31m#but if same function is being used with .get function it will not throw the error, refer example below\u001b[0m\u001b[1;33m\u001b[0m\u001b[1;33m\u001b[0m\u001b[1;33m\u001b[0m\u001b[0m\n",
      "\u001b[1;31mKeyError\u001b[0m: 'degree'"
     ]
    }
   ],
   "source": [
    "#if key is not present it gives KeyError\n",
    "print(my_dict['degree'])\n",
    "\n",
    "#but if same function is being used with .get function it will not throw the error, refer example below"
   ]
  },
  {
   "cell_type": "code",
   "execution_count": 72,
   "metadata": {},
   "outputs": [
    {
     "name": "stdout",
     "output_type": "stream",
     "text": [
      "service\n",
      "None\n"
     ]
    }
   ],
   "source": [
    "print(my_dict.get('occupation'))\n",
    "print(my_dict.get('area')) #here error has notthrown by system as we have used .get function - output is none"
   ]
  },
  {
   "cell_type": "code",
   "execution_count": 73,
   "metadata": {},
   "outputs": [
    {
     "name": "stdout",
     "output_type": "stream",
     "text": [
      "{'name': 'saravjeet', 'surname': 'kirad', 'age': 27, 'occupation': 'service'}\n",
      "{'name': 'Capt America', 'surname': 'kirad', 'age': 27, 'occupation': 'service'}\n"
     ]
    }
   ],
   "source": [
    "#Dict Add or Modify Elements\n",
    "print(my_dict)\n",
    "\n",
    "my_dict['name'] = 'Capt America'\n",
    "print(my_dict)\n"
   ]
  },
  {
   "cell_type": "code",
   "execution_count": 74,
   "metadata": {},
   "outputs": [
    {
     "name": "stdout",
     "output_type": "stream",
     "text": [
      "{'name': 'Capt America', 'surname': 'kirad', 'age': 27, 'occupation': 'Avenger'}\n"
     ]
    }
   ],
   "source": [
    "my_dict['occupation'] = 'Avenger'\n",
    "print(my_dict)"
   ]
  },
  {
   "cell_type": "code",
   "execution_count": 75,
   "metadata": {},
   "outputs": [
    {
     "name": "stdout",
     "output_type": "stream",
     "text": [
      "{'name': 'Capt America', 'surname': 'kirad', 'age': 27, 'occupation': 'Avenger'}\n",
      "27\n"
     ]
    }
   ],
   "source": [
    "#Dict Delete or Remove Element\n",
    "print(my_dict)\n",
    "print(my_dict.pop('age'))"
   ]
  },
  {
   "cell_type": "code",
   "execution_count": 76,
   "metadata": {},
   "outputs": [
    {
     "name": "stdout",
     "output_type": "stream",
     "text": [
      "{'name': 'Capt America', 'surname': 'kirad', 'occupation': 'Avenger'}\n"
     ]
    }
   ],
   "source": [
    "print(my_dict)"
   ]
  },
  {
   "cell_type": "code",
   "execution_count": 77,
   "metadata": {},
   "outputs": [
    {
     "name": "stdout",
     "output_type": "stream",
     "text": [
      "{'name': 'Capt America', 'surname': 'kirad'}\n"
     ]
    }
   ],
   "source": [
    "#remove an arbitarty key\n",
    "my_dict.popitem()\n",
    "\n",
    "print(my_dict)"
   ]
  },
  {
   "cell_type": "code",
   "execution_count": 78,
   "metadata": {},
   "outputs": [
    {
     "name": "stdout",
     "output_type": "stream",
     "text": [
      "{'name': 'Capt America'}\n"
     ]
    }
   ],
   "source": [
    "my_dict.popitem()\n",
    "\n",
    "print(my_dict)"
   ]
  },
  {
   "cell_type": "code",
   "execution_count": 79,
   "metadata": {},
   "outputs": [
    {
     "name": "stdout",
     "output_type": "stream",
     "text": [
      "{2: 4, 3: 9, 4: 16}\n"
     ]
    }
   ],
   "source": [
    "squares = {2:4, 3:9, 4:16, 5:25}\n",
    "del squares[5]\n",
    "print(squares)"
   ]
  },
  {
   "cell_type": "code",
   "execution_count": 80,
   "metadata": {},
   "outputs": [
    {
     "name": "stdout",
     "output_type": "stream",
     "text": [
      "{}\n"
     ]
    }
   ],
   "source": [
    "#remove all items\n",
    "squares.clear()\n",
    "\n",
    "print(squares)"
   ]
  },
  {
   "cell_type": "code",
   "execution_count": 81,
   "metadata": {},
   "outputs": [
    {
     "ename": "NameError",
     "evalue": "name 'squares' is not defined",
     "output_type": "error",
     "traceback": [
      "\u001b[1;31m---------------------------------------------------------------------------\u001b[0m",
      "\u001b[1;31mNameError\u001b[0m                                 Traceback (most recent call last)",
      "\u001b[1;32m<ipython-input-81-11fde506023a>\u001b[0m in \u001b[0;36m<module>\u001b[1;34m\u001b[0m\n\u001b[0;32m      4\u001b[0m \u001b[1;32mdel\u001b[0m \u001b[0msquares\u001b[0m\u001b[1;33m\u001b[0m\u001b[1;33m\u001b[0m\u001b[0m\n\u001b[0;32m      5\u001b[0m \u001b[1;33m\u001b[0m\u001b[0m\n\u001b[1;32m----> 6\u001b[1;33m \u001b[0mprint\u001b[0m\u001b[1;33m(\u001b[0m\u001b[0msquares\u001b[0m\u001b[1;33m)\u001b[0m\u001b[1;31m#NameError because dict is deleted\u001b[0m\u001b[1;33m\u001b[0m\u001b[1;33m\u001b[0m\u001b[0m\n\u001b[0m",
      "\u001b[1;31mNameError\u001b[0m: name 'squares' is not defined"
     ]
    }
   ],
   "source": [
    "squares = {2: 4, 3: 9, 4: 16, 5: 25}\n",
    "\n",
    "#delete dictionary itself\n",
    "del squares\n",
    "\n",
    "print(squares)#NameError because dict is deleted"
   ]
  },
  {
   "cell_type": "code",
   "execution_count": 83,
   "metadata": {},
   "outputs": [
    {
     "name": "stdout",
     "output_type": "stream",
     "text": [
      "Details of squares is : {2: 4, 3: 9, 4: 16, 5: 25}\n",
      "\n",
      " Details of copied disct is : {2: 4, 3: 9, 4: 16, 5: 25}\n"
     ]
    }
   ],
   "source": [
    "#Dictionary Methods\n",
    "\n",
    "squares = {2:4,3:9,4:16,5:25}\n",
    "my_dict = squares.copy()\n",
    "print(\"Details of squares is :\", squares)\n",
    "print(\"\\n Details of copied disct is :\", my_dict)"
   ]
  },
  {
   "cell_type": "code",
   "execution_count": 91,
   "metadata": {},
   "outputs": [
    {
     "name": "stdout",
     "output_type": "stream",
     "text": [
      "{'Math': 0, 'English': 0, 'Hindi': 0}\n"
     ]
    }
   ],
   "source": [
    "#fromkeys[seq[, v]] -> Return a new dictionary with keys from seq and value equal to v (defaults to None).\n",
    "subjects = dict.fromkeys(['Math', 'English', 'Hindi'],0)\n",
    "print(subjects)"
   ]
  },
  {
   "cell_type": "code",
   "execution_count": 99,
   "metadata": {},
   "outputs": [
    {
     "name": "stdout",
     "output_type": "stream",
     "text": [
      "{2: 4, 3: 9, 4: 16, 5: 25}\n",
      "dict_items([(2, 4), (3, 9), (4, 16), (5, 25)])\n",
      "dict_keys([2, 3, 4, 5])\n",
      "dict_values([4, 9, 16, 25])\n"
     ]
    }
   ],
   "source": [
    "subjects = {2:4, 3:9, 4:16, 5:25}\n",
    "print(subjects) #the view is different\n",
    "print(subjects.items()) #return a new view of the dictionary items (key, value)\n",
    "print(subjects.keys())\n",
    "print(subjects.values())"
   ]
  },
  {
   "cell_type": "code",
   "execution_count": 101,
   "metadata": {},
   "outputs": [
    {
     "name": "stdout",
     "output_type": "stream",
     "text": [
      "dict_items([(2, 4), (3, 9), (4, 16), (5, 25)])\n"
     ]
    }
   ],
   "source": [
    "subjects = {2:4, 3:9, 4:16, 5:25}\n",
    "print(subjects.items()) #return a new view of the dictionary items (key, value)"
   ]
  },
  {
   "cell_type": "code",
   "execution_count": 100,
   "metadata": {},
   "outputs": [
    {
     "name": "stdout",
     "output_type": "stream",
     "text": [
      "dict_keys([2, 3, 4, 5])\n"
     ]
    }
   ],
   "source": [
    "subjects = {2:4, 3:9, 4:16, 5:25}\n",
    "print(subjects.keys()) #return a new view of the dictionary keys"
   ]
  },
  {
   "cell_type": "code",
   "execution_count": 109,
   "metadata": {},
   "outputs": [
    {
     "name": "stdout",
     "output_type": "stream",
     "text": [
      "['__class__', '__contains__', '__delattr__', '__delitem__', '__dir__', '__doc__', '__eq__', '__format__', '__ge__', '__getattribute__', '__getitem__', '__gt__', '__hash__', '__init__', '__init_subclass__', '__iter__', '__le__', '__len__', '__lt__', '__ne__', '__new__', '__reduce__', '__reduce_ex__', '__repr__', '__setattr__', '__setitem__', '__sizeof__', '__str__', '__subclasshook__', 'clear', 'copy', 'fromkeys', 'get', 'items', 'keys', 'pop', 'popitem', 'setdefault', 'update', 'values']\n",
      "\n",
      " \n",
      " following are for list\n",
      "['__add__', '__class__', '__contains__', '__delattr__', '__delitem__', '__dir__', '__doc__', '__eq__', '__format__', '__ge__', '__getattribute__', '__getitem__', '__gt__', '__hash__', '__iadd__', '__imul__', '__init__', '__init_subclass__', '__iter__', '__le__', '__len__', '__lt__', '__mul__', '__ne__', '__new__', '__reduce__', '__reduce_ex__', '__repr__', '__reversed__', '__rmul__', '__setattr__', '__setitem__', '__sizeof__', '__str__', '__subclasshook__', 'append', 'clear', 'copy', 'count', 'extend', 'index', 'insert', 'pop', 'remove', 'reverse', 'sort']\n"
     ]
    }
   ],
   "source": [
    "#get list of all available methods and attributes of dictionary\n",
    "d = {}\n",
    "print(dir(d))\n",
    "\n",
    "\n",
    "print(\"\\n \\n following are for list\")\n",
    "\n",
    "l = []\n",
    "print(dir(l))"
   ]
  },
  {
   "cell_type": "code",
   "execution_count": 112,
   "metadata": {},
   "outputs": [
    {
     "name": "stdout",
     "output_type": "stream",
     "text": [
      "a\n",
      "b\n",
      "c\n"
     ]
    }
   ],
   "source": [
    "#Dict Comprehension\n",
    "#Dict comprehensions are just like list comprehensions but for dictionaries\n",
    "\n",
    "d = {'a': 1, 'b': 2, 'c': 3}\n",
    "for i in d:\n",
    "    print(i)"
   ]
  },
  {
   "cell_type": "code",
   "execution_count": 122,
   "metadata": {},
   "outputs": [
    {
     "name": "stdout",
     "output_type": "stream",
     "text": [
      "{'c': 3, 'd': 4, 'e': 5}\n"
     ]
    }
   ],
   "source": [
    "#Creating a new dictionary with only pairs where the value is larger than 2\n",
    "\n",
    "d ={'a':1,'b':2,'c':3,'d':4,'e':5}\n",
    "new_dict = {k:v for k, v in d.items() if v>2}\n",
    "\n",
    "print(new_dict)"
   ]
  },
  {
   "cell_type": "code",
   "execution_count": 128,
   "metadata": {},
   "outputs": [
    {
     "name": "stdout",
     "output_type": "stream",
     "text": [
      "{'c dipesh': 9, 'd dipesh': 16, 'e dipesh': 25}\n"
     ]
    }
   ],
   "source": [
    "#We can also perform operations on the key value pairs\n",
    "d = {'a':1,'b':2,'c':3,'d':4,'e':5}\n",
    "d = {k + ' dipesh':v ** 2 for k, v in d.items() if v>2 }\n",
    "print(d)"
   ]
  },
  {
   "cell_type": "code",
   "execution_count": 4,
   "metadata": {},
   "outputs": [
    {
     "name": "stdout",
     "output_type": "stream",
     "text": [
      "Hello\n",
      "Hello\n",
      "Hello\n"
     ]
    }
   ],
   "source": [
    "#Strings\n",
    "#A string is a sequence of characters.\n",
    "\n",
    "#Computers do not deal with characters, they deal with numbers (binary).\n",
    "#Even though you may see characters on your screen, internally it is stored and manipulated as a combination of 0's and 1's.\n",
    "\n",
    "#This conversion of character to a number is called encoding, and the reverse process is decoding.\n",
    "#ASCII and Unicode are some of the popular encoding used.\n",
    "\n",
    "#In Python, string is a sequence of Unicode character.\n",
    "\n",
    "#How to create a string?¶\n",
    "#Strings can be created by enclosing characters inside a single quote or double quotes.\n",
    "\n",
    "#Even triple quotes can be used in Python but generally used to represent multiline strings and docstrings.\n",
    "\n",
    "myString = 'Hello'\n",
    "\n",
    "print(myString)\n",
    "\n",
    "\n",
    "myString = \"Hello\"\n",
    "print(myString)\n",
    "\n",
    "\n",
    "myString = '''Hello'''\n",
    "print(myString)"
   ]
  },
  {
   "cell_type": "code",
   "execution_count": 5,
   "metadata": {},
   "outputs": [
    {
     "name": "stdout",
     "output_type": "stream",
     "text": [
      "H\n",
      "o\n",
      "llo\n"
     ]
    }
   ],
   "source": [
    "myString = \"Hello\"\n",
    "\n",
    "#print first Character\n",
    "print(myString[0])\n",
    "\n",
    "#print last character using negative indexing\n",
    "print(myString[-1])\n",
    "\n",
    "#slicing 2nd to 5th character\n",
    "print(myString[2:15])"
   ]
  },
  {
   "cell_type": "code",
   "execution_count": 6,
   "metadata": {},
   "outputs": [
    {
     "name": "stdout",
     "output_type": "stream",
     "text": [
      "Hello\n"
     ]
    }
   ],
   "source": [
    "print(myString[:15])"
   ]
  },
  {
   "cell_type": "code",
   "execution_count": 7,
   "metadata": {},
   "outputs": [
    {
     "ename": "TypeError",
     "evalue": "string indices must be integers",
     "output_type": "error",
     "traceback": [
      "\u001b[1;31m---------------------------------------------------------------------------\u001b[0m",
      "\u001b[1;31mTypeError\u001b[0m                                 Traceback (most recent call last)",
      "\u001b[1;32m<ipython-input-7-f317be76d762>\u001b[0m in \u001b[0;36m<module>\u001b[1;34m\u001b[0m\n\u001b[1;32m----> 1\u001b[1;33m \u001b[0mprint\u001b[0m\u001b[1;33m(\u001b[0m\u001b[0mmyString\u001b[0m\u001b[1;33m[\u001b[0m\u001b[1;36m1.5\u001b[0m\u001b[1;33m]\u001b[0m\u001b[1;33m)\u001b[0m\u001b[1;33m\u001b[0m\u001b[1;33m\u001b[0m\u001b[0m\n\u001b[0m",
      "\u001b[1;31mTypeError\u001b[0m: string indices must be integers"
     ]
    }
   ],
   "source": [
    "print(myString[1.5])"
   ]
  },
  {
   "cell_type": "code",
   "execution_count": 8,
   "metadata": {},
   "outputs": [
    {
     "ename": "TypeError",
     "evalue": "'str' object does not support item assignment",
     "output_type": "error",
     "traceback": [
      "\u001b[1;31m---------------------------------------------------------------------------\u001b[0m",
      "\u001b[1;31mTypeError\u001b[0m                                 Traceback (most recent call last)",
      "\u001b[1;32m<ipython-input-8-5d97f01cdb1f>\u001b[0m in \u001b[0;36m<module>\u001b[1;34m\u001b[0m\n\u001b[0;32m      5\u001b[0m \u001b[1;33m\u001b[0m\u001b[0m\n\u001b[0;32m      6\u001b[0m \u001b[0mmyString\u001b[0m \u001b[1;33m=\u001b[0m \u001b[1;34m\"Hello\"\u001b[0m\u001b[1;33m\u001b[0m\u001b[1;33m\u001b[0m\u001b[0m\n\u001b[1;32m----> 7\u001b[1;33m \u001b[0mmyString\u001b[0m\u001b[1;33m[\u001b[0m\u001b[1;36m4\u001b[0m\u001b[1;33m]\u001b[0m \u001b[1;33m=\u001b[0m \u001b[1;34m's'\u001b[0m \u001b[1;31m# strings are immutable\u001b[0m\u001b[1;33m\u001b[0m\u001b[1;33m\u001b[0m\u001b[0m\n\u001b[0m",
      "\u001b[1;31mTypeError\u001b[0m: 'str' object does not support item assignment"
     ]
    }
   ],
   "source": [
    "#How to change or delete a string ?\n",
    "\n",
    "#Strings are immutable. This means that elements of a string cannot be changed once it has been assigned.\n",
    "#We can simply reassign different strings to the same name.\n",
    "\n",
    "myString = \"Hello\"\n",
    "myString[4] = 's' # strings are immutable"
   ]
  },
  {
   "cell_type": "code",
   "execution_count": 9,
   "metadata": {},
   "outputs": [],
   "source": [
    "del myString # delete complete string"
   ]
  },
  {
   "cell_type": "code",
   "execution_count": 10,
   "metadata": {},
   "outputs": [
    {
     "ename": "NameError",
     "evalue": "name 'myString' is not defined",
     "output_type": "error",
     "traceback": [
      "\u001b[1;31m---------------------------------------------------------------------------\u001b[0m",
      "\u001b[1;31mNameError\u001b[0m                                 Traceback (most recent call last)",
      "\u001b[1;32m<ipython-input-10-13235c81a0c6>\u001b[0m in \u001b[0;36m<module>\u001b[1;34m\u001b[0m\n\u001b[1;32m----> 1\u001b[1;33m \u001b[0mprint\u001b[0m\u001b[1;33m(\u001b[0m\u001b[0mmyString\u001b[0m\u001b[1;33m)\u001b[0m\u001b[1;33m\u001b[0m\u001b[1;33m\u001b[0m\u001b[0m\n\u001b[0m",
      "\u001b[1;31mNameError\u001b[0m: name 'myString' is not defined"
     ]
    }
   ],
   "source": [
    "print(myString)"
   ]
  },
  {
   "cell_type": "code",
   "execution_count": 15,
   "metadata": {},
   "outputs": [
    {
     "name": "stdout",
     "output_type": "stream",
     "text": [
      "dipesh kirad \n",
      "kirad kirad \n"
     ]
    }
   ],
   "source": [
    "#String Operations\n",
    "\n",
    "\n",
    "#Concatenation\n",
    "    #Joining of two or more strings into a single one is called concatenation.\n",
    "\n",
    "        #The + operator does this in Python. Simply writing two string literals together also concatenates them.\n",
    "\n",
    "        #The * operator can be used to repeat the string for a given number of times.\n",
    "        \n",
    "s1 = 'dipesh '\n",
    "s2 = 'kirad '\n",
    "\n",
    "#concatenation of 2 strings\n",
    "print(s1 + s2)\n",
    "\n",
    "#repeat string n times\n",
    "print(s2 * 2)"
   ]
  },
  {
   "cell_type": "code",
   "execution_count": 31,
   "metadata": {},
   "outputs": [
    {
     "name": "stdout",
     "output_type": "stream",
     "text": [
      "1 Letters Found\n"
     ]
    }
   ],
   "source": [
    "#Iterating Through String\n",
    "\n",
    "count = 0\n",
    "for l in \"Hello Dipesh Kirad\":\n",
    "    if l == 'd':\n",
    "        count =+1\n",
    "print (count, \"Letters Found\")"
   ]
  },
  {
   "cell_type": "code",
   "execution_count": 33,
   "metadata": {},
   "outputs": [
    {
     "name": "stdout",
     "output_type": "stream",
     "text": [
      "True\n",
      "False\n"
     ]
    }
   ],
   "source": [
    "#String Membership Test\n",
    "print('l' in 'Hello Dipesh Kirad') ##in operator to test membership\n",
    "print ('j' in 'Hello Dipesh Kirad')"
   ]
  },
  {
   "cell_type": "code",
   "execution_count": 34,
   "metadata": {},
   "outputs": [
    {
     "name": "stdout",
     "output_type": "stream",
     "text": [
      "True\n"
     ]
    }
   ],
   "source": [
    "print(' ' in 'Hello World')"
   ]
  },
  {
   "cell_type": "code",
   "execution_count": 35,
   "metadata": {},
   "outputs": [
    {
     "data": {
      "text/plain": [
       "'DIPESH'"
      ]
     },
     "execution_count": 35,
     "metadata": {},
     "output_type": "execute_result"
    }
   ],
   "source": [
    "#String Methods\n",
    "\n",
    "#Some of the commonly used methods are lower(), upper(), join(), split(), find(), replace() etc\n",
    "\n",
    "'dipesh'.upper()"
   ]
  },
  {
   "cell_type": "code",
   "execution_count": 36,
   "metadata": {},
   "outputs": [
    {
     "data": {
      "text/plain": [
       "'kirad'"
      ]
     },
     "execution_count": 36,
     "metadata": {},
     "output_type": "execute_result"
    }
   ],
   "source": [
    "'KIRAD'.lower()"
   ]
  },
  {
   "cell_type": "code",
   "execution_count": 38,
   "metadata": {},
   "outputs": [
    {
     "data": {
      "text/plain": [
       "['Dipesh', 'Kirad', 'is', 'trying', 'to', 'learn', 'strings', 'in', 'Python']"
      ]
     },
     "execution_count": 38,
     "metadata": {},
     "output_type": "execute_result"
    }
   ],
   "source": [
    "m = 'Dipesh Kirad is trying to learn strings in Python'\n",
    "m.split()"
   ]
  },
  {
   "cell_type": "code",
   "execution_count": 42,
   "metadata": {},
   "outputs": [
    {
     "data": {
      "text/plain": [
       "'This will split all words in a list'"
      ]
     },
     "execution_count": 42,
     "metadata": {},
     "output_type": "execute_result"
    }
   ],
   "source": [
    "' '.join(['This', 'will', 'split', 'all', 'words', 'in', 'a', 'list'])"
   ]
  },
  {
   "cell_type": "code",
   "execution_count": 44,
   "metadata": {},
   "outputs": [
    {
     "data": {
      "text/plain": [
       "17"
      ]
     },
     "execution_count": 44,
     "metadata": {},
     "output_type": "execute_result"
    }
   ],
   "source": [
    "\"Hello Dipesh Kirad\".find('d')"
   ]
  },
  {
   "cell_type": "code",
   "execution_count": 47,
   "metadata": {},
   "outputs": [
    {
     "name": "stdout",
     "output_type": "stream",
     "text": [
      "Bad Morning\n",
      "Good Morning\n"
     ]
    }
   ],
   "source": [
    "s1 = 'Bad Morning'\n",
    "s2 = s1.replace('Bad', 'Good')\n",
    "\n",
    "print(s1)\n",
    "print(s2)"
   ]
  },
  {
   "cell_type": "code",
   "execution_count": 68,
   "metadata": {},
   "outputs": [
    {
     "name": "stdout",
     "output_type": "stream",
     "text": [
      "dipesh kirad\n",
      "Enter a string to get it reversedkirad\n"
     ]
    },
    {
     "ename": "TypeError",
     "evalue": "'str' object is not callable",
     "output_type": "error",
     "traceback": [
      "\u001b[1;31m---------------------------------------------------------------------------\u001b[0m",
      "\u001b[1;31mTypeError\u001b[0m                                 Traceback (most recent call last)",
      "\u001b[1;32m<ipython-input-68-516b84194161>\u001b[0m in \u001b[0;36m<module>\u001b[1;34m\u001b[0m\n\u001b[0;32m     17\u001b[0m \u001b[1;31m#print (slicedString) # print the reversed string\u001b[0m\u001b[1;33m\u001b[0m\u001b[1;33m\u001b[0m\u001b[1;33m\u001b[0m\u001b[0m\n\u001b[0;32m     18\u001b[0m \u001b[1;33m\u001b[0m\u001b[0m\n\u001b[1;32m---> 19\u001b[1;33m \u001b[0mstr\u001b[0m\u001b[1;33m=\u001b[0m\u001b[0mstr\u001b[0m\u001b[1;33m(\u001b[0m\u001b[0minput\u001b[0m\u001b[1;33m(\u001b[0m\u001b[1;34m\"Enter a string to get it reversed\"\u001b[0m\u001b[1;33m)\u001b[0m\u001b[1;33m)\u001b[0m\u001b[1;33m\u001b[0m\u001b[1;33m\u001b[0m\u001b[0m\n\u001b[0m\u001b[0;32m     20\u001b[0m \u001b[1;31m#\"Python\" # initial string\u001b[0m\u001b[1;33m\u001b[0m\u001b[1;33m\u001b[0m\u001b[1;33m\u001b[0m\u001b[0m\n\u001b[0;32m     21\u001b[0m \u001b[0mstringlength\u001b[0m\u001b[1;33m=\u001b[0m\u001b[0mlen\u001b[0m\u001b[1;33m(\u001b[0m\u001b[0mstr\u001b[0m\u001b[1;33m)\u001b[0m \u001b[1;31m# calculate length of the list\u001b[0m\u001b[1;33m\u001b[0m\u001b[1;33m\u001b[0m\u001b[0m\n",
      "\u001b[1;31mTypeError\u001b[0m: 'str' object is not callable"
     ]
    }
   ],
   "source": [
    "#myStr = str(input(\"Enter a string to check : \"))\n",
    "#'A Santa Lived As a Devil At NASAD'\n",
    "\n",
    "#convert entire string to either lower or upper\n",
    "#myStr = myStr.upper()\n",
    "#print(myStr)\n",
    "\n",
    "#reverse string\n",
    "revStr = reversed(myStr)\n",
    "print(myStr)\n",
    "\n",
    "#str=myStr # initial string\n",
    "#stringlength=len(myStr) # calculate length of the list\n",
    "#slicedString=str[stringlength::-1] # slicing \n",
    "#print (slicedString) # print the reversed string\n",
    "\n",
    "str=str(input(\"Enter a string to get it reversed\"))\n",
    "#\"Python\" # initial string\n",
    "stringlength=len(str) # calculate length of the list\n",
    "slicedString=str[stringlength::-1] # slicing \n",
    "print (slicedString) # print the reversed string"
   ]
  },
  {
   "cell_type": "code",
   "execution_count": 77,
   "metadata": {},
   "outputs": [
    {
     "name": "stdout",
     "output_type": "stream",
     "text": [
      "Given String is a Palidrome MADAM\n"
     ]
    }
   ],
   "source": [
    "#Python Program to Check where a String is Palindrome or not ?\n",
    "\n",
    "#myStr = str(input(\"Enter a keyword to check whether it is a Palidrome or not : \"))\n",
    "myStr = \"Madam\"\n",
    "\n",
    "#convert entire string to either lower or upper\n",
    "myStr = myStr.upper()\n",
    "\n",
    "#reverse string\n",
    "revStr = reversed(myStr)\n",
    "#print()\n",
    "\n",
    "#check if the string is equal to its reverse\n",
    "if list(myStr) == list(revStr):\n",
    "    print('Given String is a Palidrome',myStr)\n",
    "else:\n",
    "    print('Given String is not a Palidrome',myStr)\n"
   ]
  },
  {
   "cell_type": "code",
   "execution_count": 81,
   "metadata": {},
   "outputs": [
    {
     "name": "stdout",
     "output_type": "stream",
     "text": [
      "A\n",
      "ANALYTICS\n",
      "AS\n",
      "DATA\n",
      "DIPESH\n",
      "IS\n",
      "KIRAD\n",
      "LANGUAGE\n",
      "LEARNING\n",
      "PYTHON\n",
      "WITH\n"
     ]
    }
   ],
   "source": [
    "#Python Program to Sort Words in Alphabetic Order?\n",
    "\n",
    "myStr = 'Dipesh Kirad is learning Data Analytics with Python as a language'\n",
    "\n",
    "myStr = myStr.upper()\n",
    "#breakdown the string into list of words\n",
    "words = myStr.split()\n",
    "\n",
    "#sort the list\n",
    "words.sort()\n",
    "\n",
    "\n",
    "#print Sorted words are\n",
    "\n",
    "for anyword in words:\n",
    "     print(anyword)"
   ]
  },
  {
   "cell_type": "code",
   "execution_count": 10,
   "metadata": {},
   "outputs": [
    {
     "name": "stdout",
     "output_type": "stream",
     "text": [
      "Hello Dipesh \n"
     ]
    }
   ],
   "source": [
    "#Python Functions\n",
    "\n",
    "#Function is a group of related statements that perform a specific task.\n",
    "\n",
    "#Functions help break our program into smaller and modular chunks.\n",
    "    #As our program grows larger and larger, functions make it more organized and manageable.\n",
    "\n",
    "#It avoids repetition and makes code reusable.\n",
    "\n",
    "#Syntax:\n",
    "#def function_name(parameters):\n",
    "\n",
    " #   \"\"\"\n",
    "  #  Doc String\n",
    "   # \"\"\"\n",
    "\n",
    "    #Statement(s)\n",
    "#keyword \"def\" marks the start of function header\n",
    "\n",
    "#Parameters (arguments) through which we pass values to a function. These are optional\n",
    "\n",
    "#A colon(:) to mark the end of funciton header\n",
    "\n",
    "#Doc string describe what the function does. This is optional\n",
    "\n",
    "#\"return\" statement to return a value from the function. This is optional\n",
    "\n",
    "\n",
    "def printname(name):\n",
    "    ''' \n",
    "    This function prints the name\n",
    "    '''\n",
    "    print(\"Hello \" + str(name)) \n",
    "    \n",
    "printname('Dipesh ')"
   ]
  },
  {
   "cell_type": "code",
   "execution_count": 12,
   "metadata": {},
   "outputs": [
    {
     "name": "stdout",
     "output_type": "stream",
     "text": [
      "Hello lipesh\n"
     ]
    }
   ],
   "source": [
    "#Function Call\n",
    "#Once we have defined a function, we can call it from anywhere\n",
    "\n",
    "printname('lipesh')"
   ]
  },
  {
   "cell_type": "code",
   "execution_count": 13,
   "metadata": {},
   "outputs": [
    {
     "name": "stdout",
     "output_type": "stream",
     "text": [
      " \n",
      "    This function prints the name\n",
      "    \n"
     ]
    }
   ],
   "source": [
    "#Doc String\n",
    "    #The first string after the function header is called the docstring and is short for documentation string.\n",
    "\n",
    "    #Although optional, documentation is a good programming practice, always document your code\n",
    "\n",
    "    #Doc string will be written in triple quotes so that docstring can extend up to multiple lines\n",
    "\n",
    "print(printname.__doc__)"
   ]
  },
  {
   "cell_type": "code",
   "execution_count": 19,
   "metadata": {},
   "outputs": [],
   "source": [
    "#return Statement\n",
    "    #The return statement is used to exit a function and go back to the place from where it was called.\n",
    "\n",
    "        #Syntax:\n",
    "\n",
    "        #return [expression]\n",
    "        #-> return statement can contain an expression which gets evaluated and the value is returned.\n",
    "\n",
    "        #-> if there is no expression in the statement or the return statement itself is not present inside a function,\n",
    "            #then the function will return None Object\n",
    "\n",
    "def get_sum(lst):\n",
    "    \"\"\"\n",
    "    This function returns the sum of all the elements in a list\n",
    "    \"\"\"\n",
    "    #initialize sum\n",
    "    tot = 0\n",
    "    \n",
    "    #iterating over the list\n",
    "    for num in lst:\n",
    "        tot += num\n",
    "    return tot"
   ]
  },
  {
   "cell_type": "code",
   "execution_count": 20,
   "metadata": {},
   "outputs": [
    {
     "name": "stdout",
     "output_type": "stream",
     "text": [
      "10\n"
     ]
    }
   ],
   "source": [
    "s = get_sum([1, 2, 3, 4])\n",
    "print(s)"
   ]
  },
  {
   "cell_type": "code",
   "execution_count": 21,
   "metadata": {},
   "outputs": [
    {
     "name": "stdout",
     "output_type": "stream",
     "text": [
      "\n",
      "    This function returns the sum of all the elements in a list\n",
      "    \n"
     ]
    }
   ],
   "source": [
    "#print doc string\n",
    "\n",
    "print(get_sum.__doc__)"
   ]
  },
  {
   "cell_type": "code",
   "execution_count": 7,
   "metadata": {},
   "outputs": [
    {
     "name": "stdout",
     "output_type": "stream",
     "text": [
      "This is local variable\n",
      "This is global variable\n"
     ]
    },
    {
     "ename": "NameError",
     "evalue": "name 'local_var' is not defined",
     "output_type": "error",
     "traceback": [
      "\u001b[1;31m---------------------------------------------------------------------------\u001b[0m",
      "\u001b[1;31mNameError\u001b[0m                                 Traceback (most recent call last)",
      "\u001b[1;32m<ipython-input-7-c3d82d598462>\u001b[0m in \u001b[0;36m<module>\u001b[1;34m\u001b[0m\n\u001b[0;32m     35\u001b[0m \u001b[1;33m\u001b[0m\u001b[0m\n\u001b[0;32m     36\u001b[0m \u001b[1;31m#print local variable local_var\u001b[0m\u001b[1;33m\u001b[0m\u001b[1;33m\u001b[0m\u001b[1;33m\u001b[0m\u001b[0m\n\u001b[1;32m---> 37\u001b[1;33m \u001b[0mprint\u001b[0m\u001b[1;33m(\u001b[0m\u001b[0mlocal_var\u001b[0m\u001b[1;33m)\u001b[0m\u001b[1;33m\u001b[0m\u001b[1;33m\u001b[0m\u001b[0m\n\u001b[0m",
      "\u001b[1;31mNameError\u001b[0m: name 'local_var' is not defined"
     ]
    }
   ],
   "source": [
    "#How Function works in Python?\n",
    "    #Scope and Life Time of Variables\n",
    "        #-> Scope of a variable is the portion of a program where the variable is recognized\n",
    "\n",
    "        #-> variables defined inside a function is not visible from outside. Hence, they have a local scope.\n",
    "\n",
    "        #-> Lifetime of a variable is the period throughout which the variable exits in the memory.\n",
    "\n",
    "        #-> The lifetime of variables inside a function is as long as the function executes.\n",
    "\n",
    "        #-> Variables are destroyed once we return from the function.\n",
    "\n",
    "\n",
    "global_var = \"This is global variable\"\n",
    "\n",
    "def test_life_time():\n",
    "    \"\"\"\n",
    "    This function is to test the life time of a variables\n",
    "    \"\"\"\n",
    "    local_var = \"This is local variable\"\n",
    "    print(local_var)       #print local variable local_var\n",
    "    \n",
    "    #print(global_var)      #print global variable global_var\n",
    "    \n",
    "    \n",
    "\n",
    "#print(test_life_time.__doc__)\n",
    "\n",
    "#calling function\n",
    "test_life_time()\n",
    "\n",
    "\n",
    "#print global variable global_var\n",
    "print(global_var)\n",
    "\n",
    "#print local variable local_var\n",
    "print(local_var)"
   ]
  },
  {
   "cell_type": "code",
   "execution_count": 19,
   "metadata": {},
   "outputs": [
    {
     "name": "stdout",
     "output_type": "stream",
     "text": [
      "Enter the First Value =  21\n",
      "Enter the second value =  15\n",
      "1\n",
      "3\n",
      "H.C.F. of 21 and 15 is : 3\n"
     ]
    }
   ],
   "source": [
    "#Python program to print Highest Common Factor (HCF) of two numbers\n",
    "\n",
    "def computeHCF(a,b):\n",
    "    \"\"\"\n",
    "    This Program is to compute the Highest Common Factor of the values\n",
    "    \"\"\"\n",
    "    smaller = b if a > b else a #Concise way of writing if else statement\n",
    "    \n",
    "    hcf = 1\n",
    "    \n",
    "    for i in range (1, smaller+1):\n",
    "        if (a % i == 0) and (b % i == 0):\n",
    "            hcf = i\n",
    "            print (hcf)\n",
    "        \n",
    "    return hcf\n",
    "\n",
    "num1 = int(input(\"Enter the First Value =  \"))\n",
    "num2 = int(input(\"Enter the second value =  \"))\n",
    "\n",
    "#num1 = 5\n",
    "#num2 = 10\n",
    "\n",
    "print (\"H.C.F. of {0} and {1} is : {2}\".format(num1,num2,computeHCF(num1,num2)))\n",
    "        "
   ]
  },
  {
   "cell_type": "code",
   "execution_count": 23,
   "metadata": {},
   "outputs": [
    {
     "name": "stdout",
     "output_type": "stream",
     "text": [
      "100\n"
     ]
    }
   ],
   "source": [
    "#Types Of Functions\n",
    "\n",
    "#1. Built-in Functions\n",
    "\n",
    "# 2. User-defined Functions\n",
    "\n",
    "#Built-in Functions\n",
    "# abs()\n",
    "\n",
    "# find the absolute value\n",
    "\n",
    "num = -100\n",
    "\n",
    "print(abs(num))\n"
   ]
  },
  {
   "cell_type": "code",
   "execution_count": 24,
   "metadata": {},
   "outputs": [
    {
     "name": "stdout",
     "output_type": "stream",
     "text": [
      "True\n"
     ]
    }
   ],
   "source": [
    "#2. all()\n",
    "    #return value of all() function\n",
    "\n",
    "        #True: if all elements in an iterable are true\n",
    "\n",
    "        #False: if any element in an iterable is false\n",
    "        \n",
    "lst = [1, 2, 3, 4]\n",
    "print(all(lst)) "
   ]
  },
  {
   "cell_type": "code",
   "execution_count": 26,
   "metadata": {},
   "outputs": [
    {
     "name": "stdout",
     "output_type": "stream",
     "text": [
      "False\n"
     ]
    }
   ],
   "source": [
    "lst = (10, 1, 2, 3, 0)    # 0 present in list \n",
    "print(all(lst))\n"
   ]
  },
  {
   "cell_type": "code",
   "execution_count": 27,
   "metadata": {},
   "outputs": [
    {
     "name": "stdout",
     "output_type": "stream",
     "text": [
      "True\n"
     ]
    }
   ],
   "source": [
    "lst = []              #empty list always true\n",
    "print(all(lst))"
   ]
  },
  {
   "cell_type": "code",
   "execution_count": 28,
   "metadata": {},
   "outputs": [
    {
     "name": "stdout",
     "output_type": "stream",
     "text": [
      "False\n"
     ]
    }
   ],
   "source": [
    "lst = [1,0, 2]   #False present in a list so all(lst) is False\n",
    "print(all(lst))"
   ]
  },
  {
   "cell_type": "code",
   "execution_count": 34,
   "metadata": {},
   "outputs": [
    {
     "name": "stdout",
     "output_type": "stream",
     "text": [
      "<class 'list'>\n",
      "['__add__', '__class__', '__contains__', '__delattr__', '__delitem__', '__dir__', '__doc__', '__eq__', '__format__', '__ge__', '__getattribute__', '__getitem__', '__gt__', '__hash__', '__iadd__', '__imul__', '__init__', '__init_subclass__', '__iter__', '__le__', '__len__', '__lt__', '__mul__', '__ne__', '__new__', '__reduce__', '__reduce_ex__', '__repr__', '__reversed__', '__rmul__', '__setattr__', '__setitem__', '__sizeof__', '__str__', '__subclasshook__', 'append', 'clear', 'copy', 'count', 'extend', 'index', 'insert', 'pop', 'remove', 'reverse', 'sort']\n",
      "<class 'tuple'>\n",
      "['__add__', '__class__', '__contains__', '__delattr__', '__dir__', '__doc__', '__eq__', '__format__', '__ge__', '__getattribute__', '__getitem__', '__getnewargs__', '__gt__', '__hash__', '__init__', '__init_subclass__', '__iter__', '__le__', '__len__', '__lt__', '__mul__', '__ne__', '__new__', '__reduce__', '__reduce_ex__', '__repr__', '__rmul__', '__setattr__', '__sizeof__', '__str__', '__subclasshook__', 'count', 'index']\n"
     ]
    }
   ],
   "source": [
    "#dir()\n",
    "    #The dir() tries to return a list of valid attributes of the object.\n",
    "\n",
    "    #If the object has dir() method, the method will be called and must return the list of attributes.\n",
    "\n",
    "    #If the object doesn't have dir() method, this method tries to find information from the dict attribute (if defined),\n",
    "        #and from type object. In this case, the list returned from dir() may not be complete.\n",
    "\n",
    "numbers = []\n",
    "print(type(numbers))\n",
    "\n",
    "print(dir(numbers))\n",
    "\n",
    "tup_n = tuple(numbers)\n",
    "print(type(tup_n))\n",
    "\n",
    "print(dir(tup_n))\n"
   ]
  },
  {
   "cell_type": "code",
   "execution_count": 41,
   "metadata": {},
   "outputs": [
    {
     "name": "stdout",
     "output_type": "stream",
     "text": [
      "Enter value of a : 5\n",
      "Enter value of b : 2\n",
      "(2, 1)\n"
     ]
    }
   ],
   "source": [
    "#divmod()\n",
    "    #The divmod() method takes two numbers and returns a pair of numbers (a tuple) consisting of their quotient and remainder.\n",
    "    \n",
    "a = int(input(\"Enter value of a : \"))\n",
    "b = int(input(\"Enter value of b : \"))\n",
    "print(divmod(a,b))\n",
    "\n",
    "#print quotient and remainder as a tuple"
   ]
  },
  {
   "cell_type": "code",
   "execution_count": 45,
   "metadata": {},
   "outputs": [
    {
     "name": "stdout",
     "output_type": "stream",
     "text": [
      "Index 0 has assigned value as 1\n",
      "Index 1 has assigned value as 2\n",
      "Index 2 has assigned value as 3\n",
      "Index 3 has assigned value as 4\n",
      "Index 4 has assigned value as 5\n",
      "Index 5 has assigned value as 6\n"
     ]
    }
   ],
   "source": [
    "#enumerate()\n",
    "    #The enumerate() method adds counter to an iterable and returns it\n",
    "\n",
    "        #syntax: enumerate(iterable, start=0)\n",
    "        \n",
    "numbers = {1,2,3,4,5,6}\n",
    "\n",
    "for index, num in enumerate (numbers):\n",
    "    print (\"Index {0} has assigned value as {1}\".format(index,num))"
   ]
  },
  {
   "cell_type": "code",
   "execution_count": 55,
   "metadata": {},
   "outputs": [],
   "source": [
    "#filter()\n",
    "#The filter() method constructs an iterator from elements of an iterable for which a function returns true.\n",
    "\n",
    "#syntax: filter(function, iterable)\\\n",
    "\n",
    "#We are defining a function  here as below \n",
    "\n",
    "def find_positive_number(num):\n",
    "    \"\"\"\n",
    "    This function shall return us the positive number if number is positive\n",
    "    \"\"\"\n",
    "    if num > 0:\n",
    "        return num\n"
   ]
  },
  {
   "cell_type": "code",
   "execution_count": 62,
   "metadata": {},
   "outputs": [
    {
     "name": "stdout",
     "output_type": "stream",
     "text": [
      "[-10, -9, -8, -7, -6, -5, -4, -3, -2, -1, 0, 1, 2, 3, 4, 5, 6, 7, 8, 9]\n",
      "[1, 2, 3, 4, 5, 6, 7, 8, 9]\n"
     ]
    }
   ],
   "source": [
    "number_list = range(-10, 10) #create a list with numbers from -10 to 10\n",
    "print(list(number_list))\n",
    "\n",
    "positive_num_lst = list(filter(find_positive_number, number_list)) # using filter function (called defined function , input)\n",
    "\n",
    "\n",
    "print(positive_num_lst)\n",
    "#for i in positive_num_lst:\n",
    " #   print(i)\n"
   ]
  },
  {
   "cell_type": "code",
   "execution_count": 64,
   "metadata": {},
   "outputs": [
    {
     "name": "stdout",
     "output_type": "stream",
     "text": [
      "[-10, -9, -8, -7, -6, -5, -4, -3, -2, -1, 0, 1, 2, 3, 4, 5, 6, 7, 8, 9]\n",
      "[1, 2, 3, 4, 5, 6, 7, 8, 9]\n"
     ]
    }
   ],
   "source": [
    "number_list = range(-10, 10) #create a list with numbers from -10 to 10\n",
    "print(list(number_list))\n",
    "\n",
    "\n",
    "positive_num_lst = list(filter(lambda x : x>0, number_list)) #using lambda function \n",
    "\n",
    "print(positive_num_lst)"
   ]
  },
  {
   "cell_type": "code",
   "execution_count": 4,
   "metadata": {},
   "outputs": [
    {
     "name": "stdout",
     "output_type": "stream",
     "text": [
      "[-10, -9, -8, -7, -6, -5, -4, -3, -2, -1, 0, 1, 2, 3, 4, 5, 6, 7, 8, 9]\n",
      "[1, 2, 3, 4, 5, 6, 7, 8, 9]\n",
      "1\n",
      "2\n",
      "3\n",
      "4\n",
      "5\n",
      "6\n",
      "7\n",
      "8\n",
      "9\n"
     ]
    }
   ],
   "source": [
    "number_list = range(-10, 10) #create a list with numbers from -10 to 10\n",
    "print(list(number_list))\n",
    "\n",
    "positive_num_lst = list(filter(lambda x : x>0, number_list)) #used lambda function\n",
    "\n",
    "print(positive_num_lst)\n",
    "for i in positive_num_lst: #printing the each positive number with help of for loop\n",
    "    print(i)\n"
   ]
  },
  {
   "cell_type": "code",
   "execution_count": 12,
   "metadata": {},
   "outputs": [
    {
     "name": "stdout",
     "output_type": "stream",
     "text": [
      "True\n",
      "False\n"
     ]
    }
   ],
   "source": [
    "#isinstance()\n",
    "    #The isinstance() function checks if the object (first argument) is an instance or\n",
    "        #subclass of classinfo class (second argument).\n",
    "\n",
    "#syntax: isinstance(object, classinfo)\n",
    "\n",
    "lst = [1, 2, 3, 4]\n",
    "print(isinstance(lst, list))\n",
    "\n",
    "#try with other datatypes tuple, set\n",
    "t = (1,2,3,4)\n",
    "print(isinstance(t, list))"
   ]
  },
  {
   "cell_type": "code",
   "execution_count": 13,
   "metadata": {},
   "outputs": [
    {
     "name": "stdout",
     "output_type": "stream",
     "text": [
      "[1, 4, 9, 16]\n"
     ]
    }
   ],
   "source": [
    "#map()\n",
    "#Map applies a function to all the items in an input_list.\n",
    "\n",
    "#syntax: map(function_to_apply, list_of_inputs)\n",
    "\n",
    "numbers = [1,2,3,4]\n",
    "\n",
    "#normal method of computing num^2 for each element in the list.\n",
    "\n",
    "squared = []\n",
    "\n",
    "for num in numbers:\n",
    "    squared.append(num**2)\n",
    "\n",
    "print(squared)"
   ]
  },
  {
   "cell_type": "code",
   "execution_count": 14,
   "metadata": {},
   "outputs": [
    {
     "name": "stdout",
     "output_type": "stream",
     "text": [
      "[1, 4, 9, 16]\n"
     ]
    }
   ],
   "source": [
    "#Squaring by defining a function\n",
    "\n",
    "def poweroftwo(num):\n",
    "    return(num**2)\n",
    "\n",
    "#using map function\n",
    "\n",
    "squared = list(map(poweroftwo,numbers))\n",
    "print(squared)"
   ]
  },
  {
   "cell_type": "code",
   "execution_count": 17,
   "metadata": {},
   "outputs": [
    {
     "name": "stdout",
     "output_type": "stream",
     "text": [
      "[4, 9, 16]\n"
     ]
    }
   ],
   "source": [
    "#Squaring by using lambda function\n",
    "\n",
    "numbers = [2,3,4]\n",
    "\n",
    "squared = list(map(lambda x: x**2,numbers))\n",
    "print(squared)"
   ]
  },
  {
   "cell_type": "code",
   "execution_count": 2,
   "metadata": {},
   "outputs": [
    {
     "name": "stdout",
     "output_type": "stream",
     "text": [
      "24\n"
     ]
    }
   ],
   "source": [
    "#reduce()\n",
    "#reduce() function is for performing some computation on a list and returning the result.\n",
    "\n",
    "#It applies a rolling computation to sequential pairs of values in a list.\n",
    "\n",
    "#product of elemnts in a list\n",
    "product = 1\n",
    "lst = [1, 2, 3, 4]\n",
    "\n",
    "# traditional program without reduce()\n",
    "for num in lst:\n",
    "    product *= num\n",
    "print(product)"
   ]
  },
  {
   "cell_type": "code",
   "execution_count": 7,
   "metadata": {},
   "outputs": [
    {
     "name": "stdout",
     "output_type": "stream",
     "text": [
      "24\n"
     ]
    }
   ],
   "source": [
    "#With Reduce function - reduce()\n",
    "\n",
    "#first we need to call functools import function reduce\n",
    "\n",
    "lst = [1, 2, 3, 4]\n",
    "from functools import reduce #in Python 3\n",
    "\n",
    "#defining a function - multiply\n",
    "\n",
    "def multiply(x,y):\n",
    "    return x*y\n",
    "\n",
    "product = reduce(multiply,lst) #calling our function\n",
    "print(product)"
   ]
  },
  {
   "cell_type": "code",
   "execution_count": 11,
   "metadata": {},
   "outputs": [
    {
     "name": "stdout",
     "output_type": "stream",
     "text": [
      "24\n",
      "10\n",
      "0.041666666666666664\n"
     ]
    }
   ],
   "source": [
    "#using lambda function\n",
    "\n",
    "lst = [1,2,3,4]\n",
    "\n",
    "product = reduce(lambda x,y : x*y,lst)\n",
    "print(product)\n",
    "\n",
    "summation = reduce(lambda x,y : x+y,lst)\n",
    "print(summation)\n",
    "\n",
    "division = reduce(lambda x,y : x/y, lst)\n",
    "print(division)"
   ]
  },
  {
   "cell_type": "code",
   "execution_count": 12,
   "metadata": {},
   "outputs": [
    {
     "name": "stdout",
     "output_type": "stream",
     "text": [
      "Product of 10 and 20 is equals to 200\n"
     ]
    }
   ],
   "source": [
    "#. User-defined Functions\n",
    "    #Functions that we define ourselves to do certain specific task are referred as user-defined functions\n",
    "\n",
    "    #If we use functions written by others in the form of library, it can be termed as library functions.\n",
    "\n",
    "#Advantages\n",
    "    #User-defined functions help to decompose a large program into small segments which makes program easy to understand,\n",
    "        #maintain and debug.\n",
    "\n",
    "    #If repeated code occurs in a program. Function can be used to include those codes and execute when needed\n",
    "        #by calling that function.\n",
    "\n",
    "    #Programmars working on large project can divide the workload by making different functions.\n",
    "\n",
    "def product_numbers(a,b):\n",
    "    \"\"\"\n",
    "    This function returns the product of two integers\n",
    "    \"\"\"\n",
    "    product = a * b\n",
    "    return product\n",
    "\n",
    "num1 = 10\n",
    "num2 = 20\n",
    "\n",
    "print(\"Product of {0} and {1} is equals to {2}\".format(num1,num2,product_numbers(num1,num2)))\n",
    "    "
   ]
  },
  {
   "cell_type": "code",
   "execution_count": 18,
   "metadata": {},
   "outputs": [
    {
     "name": "stdout",
     "output_type": "stream",
     "text": [
      "Select to choose an arithmetic operation from the below given Options : \n",
      "1. Addition\n",
      "2. Subtraction\n",
      "3. Multiplication\n",
      "4. Division\n",
      "Enter choice 1 / 2 / 3 / 43\n",
      "Please enter the first value  : 4\n",
      "Please enter the second value  : 5\n",
      "Multiplication of 4.0 and 5.0 is 20.0\n"
     ]
    }
   ],
   "source": [
    "#Python program to make a simple calculator that can add, subtract, multiply and division\n",
    "\n",
    "def add(a, b):\n",
    "    \"\"\"\n",
    "    This function adds two numbers\n",
    "    \"\"\"\n",
    "    return a + b\n",
    "\n",
    "def multiply(a, b):\n",
    "    \"\"\"\n",
    "    This function multiply two numbers\n",
    "    \"\"\"\n",
    "    return a * b\n",
    "\n",
    "def subtract(a, b):\n",
    "    \"\"\"\n",
    "    This function subtract two numbers\n",
    "    \"\"\"\n",
    "    return a - b\n",
    "\n",
    "def division(a, b):\n",
    "    \"\"\"\n",
    "    This function divides two numbers\n",
    "    \"\"\"\n",
    "    return a / b\n",
    "\n",
    "print(\"Select to choose an arithmetic operation from the below given Options : \")\n",
    "print(\"1. Addition\")\n",
    "print (\"2. Subtraction\")\n",
    "print (\"3. Multiplication\")\n",
    "print (\"4. Division\")\n",
    "\n",
    "#take input from user\n",
    "choice = int(input(\"Enter choice 1 / 2 / 3 / 4\"))\n",
    "\n",
    "num1 = float(input(\"Please enter the first value  : \"))\n",
    "num2 = float(input(\"Please enter the second value  : \"))\n",
    "\n",
    "if choice == 1:\n",
    "    print(\"Addition of {0} and {1} is {2}\".format(num1, num2, add(num1, num2)))\n",
    "elif choice == 2:\n",
    "    print(\"Subtraction of {0} and {1} is {2}\".format(num1, num2, subtract(num1, num2)))\n",
    "elif choice == 3:\n",
    "    print(\"Multiplication of {0} and {1} is {2}\".format(num1, num2, multiply(num1, num2)))\n",
    "elif choice == 4:\n",
    "    print(\"Division of {0} and {1} is {2}\".format(num1, num2, division(num1, num2)))\n",
    "else:\n",
    "    print(\"Invalid Choice\")"
   ]
  },
  {
   "cell_type": "code",
   "execution_count": 22,
   "metadata": {},
   "outputs": [
    {
     "name": "stdout",
     "output_type": "stream",
     "text": [
      "Hello Nilesh, Good noon, How are you?\n",
      "\n",
      "    This function greets to person with the provided message and ask any question\n",
      "    \n"
     ]
    }
   ],
   "source": [
    "#Function Arguments\n",
    "\n",
    "def greet(name,message,ask):\n",
    "    \n",
    "    \"\"\"\n",
    "    This function greets to person with the provided message and ask any question\n",
    "    \"\"\"\n",
    "    print(\"Hello {0}, {1}, {2}\".format(name,message,ask))\n",
    "    \n",
    "#call the function with arguments\n",
    "greet('Nilesh', 'Good noon', 'How are you?')\n",
    "print(greet.__doc__)\n"
   ]
  },
  {
   "cell_type": "code",
   "execution_count": 23,
   "metadata": {},
   "outputs": [
    {
     "ename": "TypeError",
     "evalue": "greet() missing 2 required positional arguments: 'message' and 'ask'",
     "output_type": "error",
     "traceback": [
      "\u001b[1;31m---------------------------------------------------------------------------\u001b[0m",
      "\u001b[1;31mTypeError\u001b[0m                                 Traceback (most recent call last)",
      "\u001b[1;32m<ipython-input-23-2eaf26b77068>\u001b[0m in \u001b[0;36m<module>\u001b[1;34m\u001b[0m\n\u001b[0;32m      1\u001b[0m \u001b[1;31m#suppose if we pass one argument\u001b[0m\u001b[1;33m\u001b[0m\u001b[1;33m\u001b[0m\u001b[1;33m\u001b[0m\u001b[0m\n\u001b[0;32m      2\u001b[0m \u001b[1;33m\u001b[0m\u001b[0m\n\u001b[1;32m----> 3\u001b[1;33m \u001b[0mgreet\u001b[0m\u001b[1;33m(\u001b[0m\u001b[1;34m\"Nilesh\"\u001b[0m\u001b[1;33m)\u001b[0m \u001b[1;31m#will get an error\u001b[0m\u001b[1;33m\u001b[0m\u001b[1;33m\u001b[0m\u001b[0m\n\u001b[0m",
      "\u001b[1;31mTypeError\u001b[0m: greet() missing 2 required positional arguments: 'message' and 'ask'"
     ]
    }
   ],
   "source": [
    "#suppose if we pass one argument\n",
    "\n",
    "greet(\"Nilesh\") #will get an error\n"
   ]
  },
  {
   "cell_type": "code",
   "execution_count": 24,
   "metadata": {},
   "outputs": [
    {
     "name": "stdout",
     "output_type": "stream",
     "text": [
      "Hello Good Morning , Nilesh\n"
     ]
    }
   ],
   "source": [
    "#Different Forms of Arguments\n",
    "#1. Default Arguments\n",
    "#We can provide a default value to an argument by using the assignment operator (=).\n",
    "\n",
    "def greet(name,msg=\"Good Morning\"): #Default argument are to be kept last always\n",
    "    \"\"\"\n",
    "    This function greets to person with the provided message\n",
    "    if message is not provided, it defaults to \"Good Morning\"\n",
    "    \"\"\"\n",
    "    print(\"Hello {1} , {0}\".format(name, msg))\n",
    "    \n",
    "\n",
    "greet(\"Nilesh\")\n"
   ]
  },
  {
   "cell_type": "code",
   "execution_count": 27,
   "metadata": {},
   "outputs": [
    {
     "name": "stdout",
     "output_type": "stream",
     "text": [
      "Hello Good Morning , satish\n"
     ]
    }
   ],
   "source": [
    "#with out msg argument\n",
    "greet(\"satish\")\n",
    "\n",
    "#Once we have a default argument, all the arguments to its right must also have default values.\n",
    "\n",
    "#def greet(msg=\"Good Morning\", name)\n",
    "\n",
    "#will get a SyntaxError : non-default argument follows default argument"
   ]
  },
  {
   "cell_type": "code",
   "execution_count": 32,
   "metadata": {},
   "outputs": [
    {
     "name": "stdout",
     "output_type": "stream",
     "text": [
      "Hello Nilesh , Good Morning, Pune\n"
     ]
    }
   ],
   "source": [
    "#2. Keyword Arguments\n",
    "    #kwargs allows you to pass keyworded variable length of arguments to a function. \n",
    "    #You should use **kwargs if you want to handle named arguments in a function\n",
    "\n",
    "def greet(**kwargs):\n",
    "    \"\"\"\n",
    "    This function greets to person with the provided message\n",
    "    \"\"\"\n",
    "    if kwargs:\n",
    "        print(\"Hello {0} , {1}, {2}\".format(kwargs['name'], kwargs['msg'], kwargs['city']))\n",
    "\n",
    "greet(name=\"Nilesh\", msg=\"Good Morning\", city = \"Pune\")\n"
   ]
  },
  {
   "cell_type": "code",
   "execution_count": 33,
   "metadata": {},
   "outputs": [
    {
     "name": "stdout",
     "output_type": "stream",
     "text": [
      "('Dipesh', 'Saravjeet', 'Vedika')\n",
      "Hello, Dipesh\n",
      "Hello, Saravjeet\n",
      "Hello, Vedika\n"
     ]
    }
   ],
   "source": [
    "#3. Arbitary Arguments\n",
    "    #Sometimes, we do not know in advance the number of arguments that will be passed into a function.\n",
    "    #Python allows us to handle this kind of situation through function calls with arbitrary number of arguments.\n",
    "\n",
    "def greet(*names):\n",
    "    \"\"\"\n",
    "    This function greets all people names in a tuple\n",
    "    \"\"\"\n",
    "    print (names)\n",
    "    \n",
    "    for name in names:\n",
    "        print (\"Hello, {0}\".format(name))\n",
    "        \n",
    "greet(\"Dipesh\",\"Saravjeet\",\"Vedika\")"
   ]
  },
  {
   "cell_type": "code",
   "execution_count": 38,
   "metadata": {},
   "outputs": [
    {
     "name": "stdout",
     "output_type": "stream",
     "text": [
      "Enter a value to get the factorial6\n",
      "Factorial of entered value 6 is equals to 720\n"
     ]
    }
   ],
   "source": [
    "#Recurison\n",
    "    #We know that in Python, a function can call other functions. \n",
    "    #It is even possible for the function to call itself. These type of construct are termed as recursive functions.\n",
    "    \n",
    "#python program to print factorial of a number using recurion\n",
    "\n",
    "def factorial(num):\n",
    "    \"\"\"\n",
    "    This function is used to calculate the factorial of an entered value\n",
    "    \"\"\"\n",
    "    return 1 if num==0 else (num * factorial(num-1))\n",
    "\n",
    "num = int(input(\"Enter a value to get the factorial\"))\n",
    "\n",
    "print(\"Factorial of entered value {0} is equals to {1}\".format(num,factorial(num)))"
   ]
  }
 ],
 "metadata": {
  "kernelspec": {
   "display_name": "Python 3",
   "language": "python",
   "name": "python3"
  },
  "language_info": {
   "codemirror_mode": {
    "name": "ipython",
    "version": 3
   },
   "file_extension": ".py",
   "mimetype": "text/x-python",
   "name": "python",
   "nbconvert_exporter": "python",
   "pygments_lexer": "ipython3",
   "version": "3.7.4"
  }
 },
 "nbformat": 4,
 "nbformat_minor": 2
}
